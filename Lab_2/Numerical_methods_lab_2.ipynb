{
 "cells": [
  {
   "cell_type": "markdown",
   "metadata": {},
   "source": [
    "# Numerical Methods Lab 2: Data & Plotting \n",
    "\n",
    "xkcd comic # 523: Decline\n",
    "\n",
    "![xkcd: Decline](decline.png)\n",
    "\n",
    "There are a number of libraries in Python that can assist with reading in data and plotting. The ones we will focus on today are \n",
    "\n",
    "* [numpy](https://numpy.org/)\n",
    "* [matplotlib](https://matplotlib.org/)\n",
    "* [pandas](https://pandas.pydata.org/)\n",
    "\n",
    "If you don't have any of these libraries installed, you can install them like this:"
   ]
  },
  {
   "cell_type": "code",
   "execution_count": null,
   "metadata": {},
   "outputs": [],
   "source": [
    "%pip install numpy \n",
    "%pip install pandas\n",
    "%pip install matplotlib"
   ]
  },
  {
   "cell_type": "markdown",
   "metadata": {},
   "source": [
    "When importing libraries in Python, you can rename them very easily for your convenience:"
   ]
  },
  {
   "cell_type": "code",
   "execution_count": 2,
   "metadata": {},
   "outputs": [],
   "source": [
    "import numpy as np \n",
    "import pandas as pd "
   ]
  },
  {
   "cell_type": "markdown",
   "metadata": {},
   "source": [
    "This way, you don't have to type out the entire library name every time you use it! \n",
    "\n",
    "\n",
    "### Introducing numpy: arrays\n",
    "\n",
    "Numpy is a powerful and easy to use package used for scientific computing in Python. \n",
    "\n",
    "As we saw in Lab 1, lists are useful tools to store all kinds of data, and can be quite fast when dealing with only a few elements in a list. However, depending on your use-case, you may need to perform more complex operations on large amounts of numerical data. This is where numpy arrays come in handy! You can essentially treat these arrays as vectors and matrices, and are created like this:"
   ]
  },
  {
   "cell_type": "code",
   "execution_count": 3,
   "metadata": {},
   "outputs": [
    {
     "data": {
      "text/plain": [
       "array([1, 0, 1])"
      ]
     },
     "execution_count": 3,
     "metadata": {},
     "output_type": "execute_result"
    }
   ],
   "source": [
    "vec = np.array([1, 0, 1])\n",
    "\n",
    "vec"
   ]
  },
  {
   "cell_type": "markdown",
   "metadata": {},
   "source": [
    "Accessing items in an array, and slicing arrays are exactly the same as with lists:"
   ]
  },
  {
   "cell_type": "code",
   "execution_count": 4,
   "metadata": {},
   "outputs": [
    {
     "data": {
      "text/plain": [
       "1"
      ]
     },
     "execution_count": 4,
     "metadata": {},
     "output_type": "execute_result"
    }
   ],
   "source": [
    "vec[0]"
   ]
  },
  {
   "cell_type": "code",
   "execution_count": 5,
   "metadata": {},
   "outputs": [
    {
     "data": {
      "text/plain": [
       "array([0, 1])"
      ]
     },
     "execution_count": 5,
     "metadata": {},
     "output_type": "execute_result"
    }
   ],
   "source": [
    "vec[1:]"
   ]
  },
  {
   "cell_type": "markdown",
   "metadata": {},
   "source": [
    "And of course, this is how we define a matrix:"
   ]
  },
  {
   "cell_type": "code",
   "execution_count": 6,
   "metadata": {},
   "outputs": [
    {
     "data": {
      "text/plain": [
       "array([[1, 0, 0],\n",
       "       [0, 1, 0],\n",
       "       [0, 0, 1]])"
      ]
     },
     "execution_count": 6,
     "metadata": {},
     "output_type": "execute_result"
    }
   ],
   "source": [
    "mat = np.array([[1, 0, 0], [0, 1, 0], [0, 0, 1]])\n",
    "mat"
   ]
  },
  {
   "cell_type": "markdown",
   "metadata": {},
   "source": [
    "Operations are incredibly simple:"
   ]
  },
  {
   "cell_type": "code",
   "execution_count": 7,
   "metadata": {},
   "outputs": [
    {
     "data": {
      "text/plain": [
       "array([3, 1, 2])"
      ]
     },
     "execution_count": 7,
     "metadata": {},
     "output_type": "execute_result"
    }
   ],
   "source": [
    "# addition\n",
    "\n",
    "vec2 = np.array([2, 1, 1])\n",
    "\n",
    "vec + vec2"
   ]
  },
  {
   "cell_type": "code",
   "execution_count": 8,
   "metadata": {},
   "outputs": [
    {
     "data": {
      "text/plain": [
       "array([2, 0, 1])"
      ]
     },
     "execution_count": 8,
     "metadata": {},
     "output_type": "execute_result"
    }
   ],
   "source": [
    "# multiplication \n",
    "\n",
    "vec * vec2"
   ]
  },
  {
   "cell_type": "code",
   "execution_count": 9,
   "metadata": {},
   "outputs": [
    {
     "data": {
      "text/plain": [
       "array([0.5, 0. , 1. ])"
      ]
     },
     "execution_count": 9,
     "metadata": {},
     "output_type": "execute_result"
    }
   ],
   "source": [
    "# division \n",
    "\n",
    "vec / vec2"
   ]
  },
  {
   "cell_type": "markdown",
   "metadata": {},
   "source": [
    "You can find out the number of dimensions in an array by using *ndim*:"
   ]
  },
  {
   "cell_type": "code",
   "execution_count": 10,
   "metadata": {},
   "outputs": [
    {
     "data": {
      "text/plain": [
       "1"
      ]
     },
     "execution_count": 10,
     "metadata": {},
     "output_type": "execute_result"
    }
   ],
   "source": [
    "vec.ndim"
   ]
  },
  {
   "cell_type": "code",
   "execution_count": 11,
   "metadata": {},
   "outputs": [
    {
     "data": {
      "text/plain": [
       "2"
      ]
     },
     "execution_count": 11,
     "metadata": {},
     "output_type": "execute_result"
    }
   ],
   "source": [
    "mat.ndim"
   ]
  },
  {
   "cell_type": "markdown",
   "metadata": {},
   "source": [
    "and find out the number of elements along each dimension using *shape*:"
   ]
  },
  {
   "cell_type": "code",
   "execution_count": 12,
   "metadata": {},
   "outputs": [
    {
     "data": {
      "text/plain": [
       "(3,)"
      ]
     },
     "execution_count": 12,
     "metadata": {},
     "output_type": "execute_result"
    }
   ],
   "source": [
    "vec.shape"
   ]
  },
  {
   "cell_type": "code",
   "execution_count": 13,
   "metadata": {},
   "outputs": [
    {
     "data": {
      "text/plain": [
       "(3, 3)"
      ]
     },
     "execution_count": 13,
     "metadata": {},
     "output_type": "execute_result"
    }
   ],
   "source": [
    "mat.shape"
   ]
  },
  {
   "cell_type": "markdown",
   "metadata": {},
   "source": [
    "Finally, you can find out the total number of elements by using *size*:"
   ]
  },
  {
   "cell_type": "code",
   "execution_count": 14,
   "metadata": {},
   "outputs": [
    {
     "data": {
      "text/plain": [
       "9"
      ]
     },
     "execution_count": 14,
     "metadata": {},
     "output_type": "execute_result"
    }
   ],
   "source": [
    "mat.size"
   ]
  },
  {
   "cell_type": "markdown",
   "metadata": {},
   "source": [
    "There are some other ways of defining arrays in numpy. For instance, if you want to initialise an array consisting of zeros:"
   ]
  },
  {
   "cell_type": "code",
   "execution_count": 15,
   "metadata": {},
   "outputs": [
    {
     "data": {
      "text/plain": [
       "array([0., 0., 0., 0., 0.])"
      ]
     },
     "execution_count": 15,
     "metadata": {},
     "output_type": "execute_result"
    }
   ],
   "source": [
    "zeros = np.zeros(5)     # this is an array containing 5 elements of zero \n",
    "\n",
    "zeros"
   ]
  },
  {
   "cell_type": "code",
   "execution_count": 16,
   "metadata": {},
   "outputs": [
    {
     "data": {
      "text/plain": [
       "array([[0., 0.],\n",
       "       [0., 0.],\n",
       "       [0., 0.]])"
      ]
     },
     "execution_count": 16,
     "metadata": {},
     "output_type": "execute_result"
    }
   ],
   "source": [
    "zeros_mat = np.zeros((3, 2))        # creates a 3x2 matrix of zeros\n",
    "\n",
    "zeros_mat"
   ]
  },
  {
   "cell_type": "markdown",
   "metadata": {},
   "source": [
    "An array filled with ones:"
   ]
  },
  {
   "cell_type": "code",
   "execution_count": 17,
   "metadata": {},
   "outputs": [
    {
     "data": {
      "text/plain": [
       "array([1., 1., 1., 1.])"
      ]
     },
     "execution_count": 17,
     "metadata": {},
     "output_type": "execute_result"
    }
   ],
   "source": [
    "ones = np.ones(4) \n",
    "\n",
    "ones"
   ]
  },
  {
   "cell_type": "markdown",
   "metadata": {},
   "source": [
    "An array consisting of a range of numbers:"
   ]
  },
  {
   "cell_type": "code",
   "execution_count": 18,
   "metadata": {},
   "outputs": [
    {
     "data": {
      "text/plain": [
       "array([0, 1, 2, 3, 4, 5, 6, 7, 8, 9])"
      ]
     },
     "execution_count": 18,
     "metadata": {},
     "output_type": "execute_result"
    }
   ],
   "source": [
    "my_range = np.arange(10)\n",
    "\n",
    "my_range"
   ]
  },
  {
   "cell_type": "markdown",
   "metadata": {},
   "source": [
    "An array containing a range of numbers at even intervals: "
   ]
  },
  {
   "cell_type": "code",
   "execution_count": 19,
   "metadata": {},
   "outputs": [
    {
     "data": {
      "text/plain": [
       "array([ 0,  5, 10, 15])"
      ]
     },
     "execution_count": 19,
     "metadata": {},
     "output_type": "execute_result"
    }
   ],
   "source": [
    "my_range2 = np.arange(0, 20, 5)      # within the brackets are the first number, last number, and step size\n",
    "\n",
    "my_range2"
   ]
  },
  {
   "cell_type": "markdown",
   "metadata": {},
   "source": [
    "An array with values that are spaced linearly in a given interval:"
   ]
  },
  {
   "cell_type": "code",
   "execution_count": 20,
   "metadata": {},
   "outputs": [
    {
     "name": "stdout",
     "output_type": "stream",
     "text": [
      "[ 5.          5.40816327  5.81632653  6.2244898   6.63265306  7.04081633\n",
      "  7.44897959  7.85714286  8.26530612  8.67346939  9.08163265  9.48979592\n",
      "  9.89795918 10.30612245 10.71428571 11.12244898 11.53061224 11.93877551\n",
      " 12.34693878 12.75510204 13.16326531 13.57142857 13.97959184 14.3877551\n",
      " 14.79591837 15.20408163 15.6122449  16.02040816 16.42857143 16.83673469\n",
      " 17.24489796 17.65306122 18.06122449 18.46938776 18.87755102 19.28571429\n",
      " 19.69387755 20.10204082 20.51020408 20.91836735 21.32653061 21.73469388\n",
      " 22.14285714 22.55102041 22.95918367 23.36734694 23.7755102  24.18367347\n",
      " 24.59183673 25.        ]\n",
      "[ 5.          7.22222222  9.44444444 11.66666667 13.88888889 16.11111111\n",
      " 18.33333333 20.55555556 22.77777778 25.        ]\n"
     ]
    }
   ],
   "source": [
    "lin_array = np.linspace(5, 25)          # default 50 elements\n",
    "\n",
    "print(lin_array)\n",
    "\n",
    "lin_array2 = np.linspace(5, 25, 10)     # only 10 elements \n",
    "\n",
    "print(lin_array2)"
   ]
  },
  {
   "cell_type": "markdown",
   "metadata": {},
   "source": [
    "An array with values that are spaced logarithmically in a given interval:"
   ]
  },
  {
   "cell_type": "code",
   "execution_count": 21,
   "metadata": {},
   "outputs": [
    {
     "data": {
      "text/plain": [
       "array([   1.        ,    2.15443469,    4.64158883,   10.        ,\n",
       "         21.5443469 ,   46.41588834,  100.        ,  215.443469  ,\n",
       "        464.15888336, 1000.        ])"
      ]
     },
     "execution_count": 21,
     "metadata": {},
     "output_type": "execute_result"
    }
   ],
   "source": [
    "log_array = np.logspace(0, 3, 10)       # an array between 1 and 1000 containing 10 elements\n",
    "\n",
    "log_array"
   ]
  },
  {
   "cell_type": "markdown",
   "metadata": {},
   "source": [
    "You can find out more about numpy arrays [here](https://numpy.org/doc/stable/reference/routines.array-creation.html) if you're interested."
   ]
  },
  {
   "cell_type": "markdown",
   "metadata": {},
   "source": [
    "### Introducing numpy: constants & functions \n",
    "\n",
    "There are a number of constants that numpy provides for you:\n",
    "\n",
    "* pi \n",
    "* e \n",
    "* a representation of infinity "
   ]
  },
  {
   "cell_type": "code",
   "execution_count": 22,
   "metadata": {},
   "outputs": [
    {
     "name": "stdout",
     "output_type": "stream",
     "text": [
      "pi:  3.141592653589793\n",
      "e:   2.718281828459045\n",
      "infinity:   inf\n"
     ]
    }
   ],
   "source": [
    "print(f\"pi:  {np.pi}\")\n",
    "\n",
    "print(f\"e:   {np.e}\")\n",
    "\n",
    "print(f\"infinity:   {np.inf}\")"
   ]
  },
  {
   "cell_type": "markdown",
   "metadata": {},
   "source": [
    "A range of mathematical functions are also included within numpy, for example:\n",
    "\n",
    "* trigonometry \n",
    "* rounding \n",
    "* sums, products, differences\n",
    "* exponents and logarithms \n",
    "\n",
    "Trigonometry is always performed in radians. Examples of trigonometric functions include:"
   ]
  },
  {
   "cell_type": "code",
   "execution_count": 23,
   "metadata": {},
   "outputs": [
    {
     "name": "stdout",
     "output_type": "stream",
     "text": [
      "1.0\n",
      "1.0\n",
      "1.7320508075688767\n",
      "0.0\n",
      "1.5707963267948966\n"
     ]
    }
   ],
   "source": [
    "# sin \n",
    "print(np.sin(np.pi / 2))\n",
    "\n",
    "# cos \n",
    "print(np.cos(0))\n",
    "\n",
    "# tan \n",
    "print(np.tan(np.pi / 3))\n",
    "\n",
    "# arcsin \n",
    "print(np.arcsin(0))\n",
    "\n",
    "# arccos \n",
    "print(np.arccos(0))"
   ]
  },
  {
   "cell_type": "markdown",
   "metadata": {},
   "source": [
    "There are three main kinds of rounding that can be performed. \n",
    "\n",
    "Rounding up to the nearest integer using *round*:"
   ]
  },
  {
   "cell_type": "code",
   "execution_count": 24,
   "metadata": {},
   "outputs": [
    {
     "data": {
      "text/plain": [
       "3.0"
      ]
     },
     "execution_count": 24,
     "metadata": {},
     "output_type": "execute_result"
    }
   ],
   "source": [
    "np.round(3.2)"
   ]
  },
  {
   "cell_type": "markdown",
   "metadata": {},
   "source": [
    "rounding down using *floor*:"
   ]
  },
  {
   "cell_type": "code",
   "execution_count": 25,
   "metadata": {},
   "outputs": [
    {
     "data": {
      "text/plain": [
       "3.0"
      ]
     },
     "execution_count": 25,
     "metadata": {},
     "output_type": "execute_result"
    }
   ],
   "source": [
    "np.floor(3.7)"
   ]
  },
  {
   "cell_type": "markdown",
   "metadata": {},
   "source": [
    "and rounding up using *ceil*:"
   ]
  },
  {
   "cell_type": "code",
   "execution_count": 26,
   "metadata": {},
   "outputs": [
    {
     "data": {
      "text/plain": [
       "4.0"
      ]
     },
     "execution_count": 26,
     "metadata": {},
     "output_type": "execute_result"
    }
   ],
   "source": [
    "np.ceil(3.2)"
   ]
  },
  {
   "cell_type": "markdown",
   "metadata": {},
   "source": [
    "You can calculate the sum across an array by using *sum*:"
   ]
  },
  {
   "cell_type": "code",
   "execution_count": 27,
   "metadata": {},
   "outputs": [
    {
     "name": "stdout",
     "output_type": "stream",
     "text": [
      "[1 2 3 4]\n"
     ]
    },
    {
     "data": {
      "text/plain": [
       "10"
      ]
     },
     "execution_count": 27,
     "metadata": {},
     "output_type": "execute_result"
    }
   ],
   "source": [
    "array = np.arange(1, 5)\n",
    "\n",
    "print(array)\n",
    "\n",
    "np.sum(array)"
   ]
  },
  {
   "cell_type": "markdown",
   "metadata": {},
   "source": [
    "The product across an array by using *prod*:"
   ]
  },
  {
   "cell_type": "code",
   "execution_count": 28,
   "metadata": {},
   "outputs": [
    {
     "data": {
      "text/plain": [
       "24"
      ]
     },
     "execution_count": 28,
     "metadata": {},
     "output_type": "execute_result"
    }
   ],
   "source": [
    "np.prod(array)"
   ]
  },
  {
   "cell_type": "markdown",
   "metadata": {},
   "source": [
    "The cumulate sum of an array using *cumsum*:"
   ]
  },
  {
   "cell_type": "code",
   "execution_count": 29,
   "metadata": {},
   "outputs": [
    {
     "data": {
      "text/plain": [
       "array([ 1,  3,  6, 10])"
      ]
     },
     "execution_count": 29,
     "metadata": {},
     "output_type": "execute_result"
    }
   ],
   "source": [
    "np.cumsum(array)"
   ]
  },
  {
   "cell_type": "markdown",
   "metadata": {},
   "source": [
    "The mean of an array using *mean*:"
   ]
  },
  {
   "cell_type": "code",
   "execution_count": 30,
   "metadata": {},
   "outputs": [
    {
     "name": "stdout",
     "output_type": "stream",
     "text": [
      "1.118033988749895\n"
     ]
    }
   ],
   "source": [
    "np.mean(array)\n",
    "\n",
    "print(np.std(array))"
   ]
  },
  {
   "cell_type": "markdown",
   "metadata": {},
   "source": [
    "You can calculate the exponent, $\\exp(x)$, of a single value, or an array by using *exp*:"
   ]
  },
  {
   "cell_type": "code",
   "execution_count": 31,
   "metadata": {},
   "outputs": [
    {
     "data": {
      "text/plain": [
       "7.38905609893065"
      ]
     },
     "execution_count": 31,
     "metadata": {},
     "output_type": "execute_result"
    }
   ],
   "source": [
    "np.exp(2)"
   ]
  },
  {
   "cell_type": "code",
   "execution_count": 32,
   "metadata": {},
   "outputs": [
    {
     "data": {
      "text/plain": [
       "array([ 2.71828183,  7.3890561 , 20.08553692, 54.59815003])"
      ]
     },
     "execution_count": 32,
     "metadata": {},
     "output_type": "execute_result"
    }
   ],
   "source": [
    "np.exp(array)"
   ]
  },
  {
   "cell_type": "markdown",
   "metadata": {},
   "source": [
    "The natural logarithm, $\\log(x)$, of a single value, or an array using *log*:"
   ]
  },
  {
   "cell_type": "code",
   "execution_count": 33,
   "metadata": {},
   "outputs": [
    {
     "data": {
      "text/plain": [
       "0.6931471805599453"
      ]
     },
     "execution_count": 33,
     "metadata": {},
     "output_type": "execute_result"
    }
   ],
   "source": [
    "np.log(2)"
   ]
  },
  {
   "cell_type": "code",
   "execution_count": 34,
   "metadata": {},
   "outputs": [
    {
     "data": {
      "text/plain": [
       "array([0.        , 0.69314718, 1.09861229, 1.38629436])"
      ]
     },
     "execution_count": 34,
     "metadata": {},
     "output_type": "execute_result"
    }
   ],
   "source": [
    "np.log(array)"
   ]
  },
  {
   "cell_type": "markdown",
   "metadata": {},
   "source": [
    "The base-10 logarithm, $\\log_{10}(x)$, of a single value, or an array using *log10*:"
   ]
  },
  {
   "cell_type": "code",
   "execution_count": 35,
   "metadata": {},
   "outputs": [
    {
     "data": {
      "text/plain": [
       "2.0"
      ]
     },
     "execution_count": 35,
     "metadata": {},
     "output_type": "execute_result"
    }
   ],
   "source": [
    "np.log10(100)"
   ]
  },
  {
   "cell_type": "code",
   "execution_count": 36,
   "metadata": {},
   "outputs": [
    {
     "data": {
      "text/plain": [
       "array([0.        , 0.30103   , 0.47712125, 0.60205999])"
      ]
     },
     "execution_count": 36,
     "metadata": {},
     "output_type": "execute_result"
    }
   ],
   "source": [
    "np.log10(array)"
   ]
  },
  {
   "cell_type": "markdown",
   "metadata": {},
   "source": [
    "For a more comprehensive list of mathematical functions contained within numpy, you can look [here](https://numpy.org/doc/stable/reference/routines.math.html). \n",
    "\n",
    "\n",
    "\n",
    "### Randomness with numpy \n",
    "Sometimes we may need to generate random numbers, for instance in the case of \n",
    "\n",
    "* sampling data \n",
    "* generating noise \n",
    "* simulations & modelling \n",
    "\n",
    "There are two main methods to produce random numbers. The first relies on physical phenomena that is expected to be random, for instance measuring thermal noise or quantum data. This is known as *true* random number generation. Can you think of any other physical examples that can provide randomness to us? \n",
    "\n",
    "The second method relies on algorithms that can generate series of numbers that can appear random, however these are ultimately deterministic due to their reliance on an initial condition known as a *seed*. This is called *pseudorandom* number generation. The use of seeds in this method is beneficial as it ensures reproducibility of the random data. \n",
    "\n",
    "Numpy employs pseudorandom number generators for generating and manipulating random numbers. Let's begin by first setting a seed:"
   ]
  },
  {
   "cell_type": "code",
   "execution_count": 37,
   "metadata": {},
   "outputs": [],
   "source": [
    "np.random.seed(1)"
   ]
  },
  {
   "cell_type": "markdown",
   "metadata": {},
   "source": [
    "We can select a random float between 0 and 1 by simply calling "
   ]
  },
  {
   "cell_type": "code",
   "execution_count": 38,
   "metadata": {},
   "outputs": [
    {
     "name": "stdout",
     "output_type": "stream",
     "text": [
      "0.417022004702574\n",
      "[7.20324493e-01 1.14374817e-04 3.02332573e-01]\n"
     ]
    }
   ],
   "source": [
    "print(np.random.rand())\n",
    "\n",
    "print(np.random.rand(3))"
   ]
  },
  {
   "cell_type": "markdown",
   "metadata": {},
   "source": [
    "If we wanted to select a random integer from a range:"
   ]
  },
  {
   "cell_type": "code",
   "execution_count": 39,
   "metadata": {},
   "outputs": [
    {
     "name": "stdout",
     "output_type": "stream",
     "text": [
      "0\n",
      "[0 1 7]\n"
     ]
    }
   ],
   "source": [
    "print(np.random.randint(10))\n",
    "print(np.random.randint(10, size=3))"
   ]
  },
  {
   "cell_type": "markdown",
   "metadata": {},
   "source": [
    "Randomly selected data can be done by using *choice*:"
   ]
  },
  {
   "cell_type": "code",
   "execution_count": 40,
   "metadata": {},
   "outputs": [
    {
     "name": "stdout",
     "output_type": "stream",
     "text": [
      "[6 9 2 4 5]\n",
      "2\n",
      "[5 4 5]\n",
      "[2 5 2]\n"
     ]
    }
   ],
   "source": [
    "my_da = np.random.randint(10, size=5)\n",
    "\n",
    "print(my_da)\n",
    "\n",
    "print(np.random.choice(my_da))\n",
    "\n",
    "print(np.random.choice(my_da, size=3))\n",
    "\n",
    "# with repacement \n",
    "print(np.random.choice(my_da, size=3, replace=True))"
   ]
  },
  {
   "cell_type": "markdown",
   "metadata": {},
   "source": [
    "Oftentimes, you may want to generate random numbers from a probability distribution. The most basic is the uniform distribution \n",
    "\n",
    "$$p(x) = \\frac{1}{b-a}$$\n",
    "\n",
    "where $a$ and $b$ define the interval $[a, b)$. In numpy, the default values are $a = 0$, and $b=1$. "
   ]
  },
  {
   "cell_type": "code",
   "execution_count": 41,
   "metadata": {},
   "outputs": [
    {
     "name": "stdout",
     "output_type": "stream",
     "text": [
      "0.9139620245792329\n"
     ]
    }
   ],
   "source": [
    "print(np.random.uniform())"
   ]
  },
  {
   "cell_type": "markdown",
   "metadata": {},
   "source": [
    "We can very easily define the interval:"
   ]
  },
  {
   "cell_type": "code",
   "execution_count": 42,
   "metadata": {},
   "outputs": [
    {
     "name": "stdout",
     "output_type": "stream",
     "text": [
      "5.8851567281171056\n",
      "3.2920957015541252\n"
     ]
    }
   ],
   "source": [
    "# between 0-10\n",
    "print(np.random.uniform(10))\n",
    "\n",
    "# between 2-5 \n",
    "print(np.random.uniform(2,5))"
   ]
  },
  {
   "cell_type": "markdown",
   "metadata": {},
   "source": [
    "and the number of points"
   ]
  },
  {
   "cell_type": "code",
   "execution_count": 43,
   "metadata": {},
   "outputs": [
    {
     "name": "stdout",
     "output_type": "stream",
     "text": [
      "[19.39127789 17.78389236 17.15970516 18.02757504 10.92800809]\n"
     ]
    }
   ],
   "source": [
    "print(np.random.uniform(10, 20, size=5))"
   ]
  },
  {
   "cell_type": "markdown",
   "metadata": {},
   "source": [
    "The probability distribution that most occurs in nature is the normal distribution (also known as the Gaussian):\n",
    "\n",
    "$$ p(x) = \\frac{1}{\\sqrt{2\\pi\\sigma^2}} \\exp\\left[ -\\frac{(x-\\mu)^2}{2\\sigma^2}\\right]$$\n",
    "\n",
    "with mean $\\mu$ and standard deviation $\\sigma$. Recall that the square of the standard deviation $\\sigma^2$ is the variance. In numpy the default values are $\\mu = 0$ and $\\sigma = 1$."
   ]
  },
  {
   "cell_type": "code",
   "execution_count": 44,
   "metadata": {},
   "outputs": [
    {
     "name": "stdout",
     "output_type": "stream",
     "text": [
      "1.118296977299658\n"
     ]
    }
   ],
   "source": [
    "print(np.random.normal())"
   ]
  },
  {
   "cell_type": "markdown",
   "metadata": {},
   "source": [
    "and of course, you can define your own mean and standard deviation"
   ]
  },
  {
   "cell_type": "code",
   "execution_count": 45,
   "metadata": {},
   "outputs": [
    {
     "name": "stdout",
     "output_type": "stream",
     "text": [
      "10.166839569875433\n",
      "[11.12996991 11.12840506  9.50742769  9.74636965 12.79467449]\n"
     ]
    }
   ],
   "source": [
    "print(np.random.normal(10, 3))\n",
    "\n",
    "print(np.random.normal(10, 3, size=5))"
   ]
  },
  {
   "cell_type": "code",
   "execution_count": 46,
   "metadata": {},
   "outputs": [
    {
     "name": "stdout",
     "output_type": "stream",
     "text": [
      "0.008979279218179315\n",
      "0.00441481355197304\n"
     ]
    }
   ],
   "source": [
    "my_norm = np.random.normal(10, 5, size=100000)\n",
    "\n",
    "print(abs(10 - np.mean(my_norm)))\n",
    "\n",
    "print(abs(5 - np.std(my_norm)))"
   ]
  },
  {
   "cell_type": "markdown",
   "metadata": {},
   "source": [
    "There are many distributions that can be sampled using numpy.random, for a more comprehensive list you can see [here](https://numpy.org/doc/stable/reference/random/legacy.html#distributions)"
   ]
  },
  {
   "cell_type": "markdown",
   "metadata": {},
   "source": [
    "### Plotting with matplotlib \n",
    "\n",
    "The matplotlib library contains the *pyplot* module which is used for plotting. We can import it in like this:"
   ]
  },
  {
   "cell_type": "code",
   "execution_count": 47,
   "metadata": {},
   "outputs": [],
   "source": [
    "import matplotlib.pyplot as plt "
   ]
  },
  {
   "cell_type": "markdown",
   "metadata": {},
   "source": [
    "Matplotlib.pyplot graphs data on *Figures*, which can contain multiple *axes*. Figures are like a canvas for the plots to be created on, and you can specify a range of features including:\n",
    "\n",
    "* size of the figure \n",
    "* the background colour \n",
    "* titles and legends \n",
    "* subfigures and subplots \n",
    "* colourbars \n",
    "* ... and many more!\n",
    "\n",
    "\n",
    "Axes are essentially where the plots are created within the figure, and you can specify a range of features including:\n",
    "\n",
    "* axis labels \n",
    "* error bars \n",
    "* the type of plot (e.g. scatterplot, histogram..)\n",
    "* vertical and horizontal lines \n",
    "* grid lines \n",
    "* axis limits \n",
    "* legends \n",
    "* ... and many more!"
   ]
  },
  {
   "cell_type": "markdown",
   "metadata": {},
   "source": [
    "A great way to visualise this is shown below:\n",
    "\n",
    "<div>\n",
    "<img src=\"anatomy.webp\" width=\"600\"/>\n",
    "</div>\n",
    "\n",
    "source: https://matplotlib.org"
   ]
  },
  {
   "cell_type": "markdown",
   "metadata": {},
   "source": [
    "Let's first create some dummy data for plotting. When plotting, it is important that your x- and y- datasets are of the same length, otherwise an error will occur!"
   ]
  },
  {
   "cell_type": "code",
   "execution_count": 48,
   "metadata": {},
   "outputs": [],
   "source": [
    "x = np.arange(10)\n",
    "y = np.linspace(1, 50, 10)"
   ]
  },
  {
   "cell_type": "markdown",
   "metadata": {},
   "source": [
    "There are a number of ways to initialise plots using pyplot. The most basic way is like this:"
   ]
  },
  {
   "cell_type": "code",
   "execution_count": 49,
   "metadata": {},
   "outputs": [
    {
     "data": {
      "image/png": "[encoded data removed]",
      "text/plain": [
       "<Figure size 640x480 with 1 Axes>"
      ]
     },
     "metadata": {},
     "output_type": "display_data"
    }
   ],
   "source": [
    "fig, ax = plt.subplots()        # initialise the plot\n",
    "ax.plot(x, y)                   # plot y vs. x as a line\n",
    "plt.show()                      # display the plot"
   ]
  },
  {
   "cell_type": "markdown",
   "metadata": {},
   "source": [
    "You can specify axis labels like this:"
   ]
  },
  {
   "cell_type": "code",
   "execution_count": 50,
   "metadata": {},
   "outputs": [
    {
     "data": {
      "image/png": "[encoded data removed]",
      "text/plain": [
       "<Figure size 640x480 with 1 Axes>"
      ]
     },
     "metadata": {},
     "output_type": "display_data"
    }
   ],
   "source": [
    "fig, ax = plt.subplots()\n",
    "ax.plot(x, y)\n",
    "ax.set_xlabel(r\"x / $\\lambda$\")      # sets the x-axis label to be \"x\"\n",
    "ax.set_ylabel(\"y\")      # sets the y-axis label to be \"y\" \n",
    "plt.show()"
   ]
  },
  {
   "cell_type": "markdown",
   "metadata": {},
   "source": [
    "You can even add a title to your plot!"
   ]
  },
  {
   "cell_type": "code",
   "execution_count": 51,
   "metadata": {},
   "outputs": [
    {
     "data": {
      "image/png": "[encoded data removed]",
      "text/plain": [
       "<Figure size 640x480 with 1 Axes>"
      ]
     },
     "metadata": {},
     "output_type": "display_data"
    }
   ],
   "source": [
    "fig, ax = plt.subplots()\n",
    "plt.plot(x, y)\n",
    "ax.set_xlabel(\"x\")\n",
    "ax.set_ylabel(\"y\")\n",
    "plt.title(r\"My first plot $\\Gamma$\")      # creates a title called \"My first plot\"\n",
    "plt.show()"
   ]
  },
  {
   "cell_type": "markdown",
   "metadata": {},
   "source": [
    "You can define the axis range using *xlim* and *ylim*:"
   ]
  },
  {
   "cell_type": "code",
   "execution_count": 52,
   "metadata": {},
   "outputs": [
    {
     "data": {
      "image/png": "[encoded data removed]",
      "text/plain": [
       "<Figure size 640x480 with 1 Axes>"
      ]
     },
     "metadata": {},
     "output_type": "display_data"
    }
   ],
   "source": [
    "fig, ax = plt.subplots()\n",
    "plt.plot(x, y)\n",
    "ax.set_xlabel(\"x\")\n",
    "ax.set_ylabel(\"y\")\n",
    "ax.set(xlim=[2, 8])\n",
    "ax.set(ylim=[15, 50])\n",
    "plt.title(\"My first plot\")      # creates a title called \"My first plot\"\n",
    "plt.show()"
   ]
  },
  {
   "cell_type": "markdown",
   "metadata": {},
   "source": [
    "We can also specify more plot parameters within plt.plot:"
   ]
  },
  {
   "cell_type": "code",
   "execution_count": 53,
   "metadata": {},
   "outputs": [
    {
     "data": {
      "image/png": "[encoded data removed]",
      "text/plain": [
       "<Figure size 640x480 with 1 Axes>"
      ]
     },
     "metadata": {},
     "output_type": "display_data"
    }
   ],
   "source": [
    "fig, ax = plt.subplots()\n",
    "plt.plot(x, y, marker='o', color='g')       # includes markers for the data points, and changes the line to green\n",
    "ax.set_xlabel(\"x\")\n",
    "ax.set_ylabel(\"y\")\n",
    "plt.title(\"My first plot\")\n",
    "plt.show()"
   ]
  },
  {
   "cell_type": "markdown",
   "metadata": {},
   "source": [
    "You can also change the transparency of the data by using *alpha*"
   ]
  },
  {
   "cell_type": "code",
   "execution_count": 54,
   "metadata": {},
   "outputs": [
    {
     "data": {
      "image/png": "[encoded data removed]",
      "text/plain": [
       "<Figure size 640x480 with 1 Axes>"
      ]
     },
     "metadata": {},
     "output_type": "display_data"
    }
   ],
   "source": [
    "fig, ax = plt.subplots()\n",
    "plt.plot(x, y, alpha=0.1)\n",
    "ax.set_xlabel(\"x\")\n",
    "ax.set_ylabel(\"y\")\n",
    "plt.title(\"My first plot\")\n",
    "plt.show()"
   ]
  },
  {
   "cell_type": "markdown",
   "metadata": {},
   "source": [
    "Horizontal and vertical lines:"
   ]
  },
  {
   "cell_type": "code",
   "execution_count": 55,
   "metadata": {},
   "outputs": [
    {
     "data": {
      "image/png": "[encoded data removed]",
      "text/plain": [
       "<Figure size 640x480 with 1 Axes>"
      ]
     },
     "metadata": {},
     "output_type": "display_data"
    }
   ],
   "source": [
    "fig, ax = plt.subplots()\n",
    "plt.plot(x, y)\n",
    "ax.axhline(25, color='g')       # specifies the colour of this line to be green\n",
    "ax.axvline(5, color='k')        # specifies the colour of this line to be black\n",
    "ax.axvline(8, color='r', linestyle='--')       # specifies the colour of this line to be red, and the line to be dashed \n",
    "ax.set_xlabel(\"x\")\n",
    "ax.set_ylabel(\"y\")\n",
    "plt.title(\"My first plot\")\n",
    "plt.show()"
   ]
  },
  {
   "cell_type": "markdown",
   "metadata": {},
   "source": [
    "You can include as much data as you like within plots. Let's generate some more dummy data:"
   ]
  },
  {
   "cell_type": "code",
   "execution_count": 56,
   "metadata": {},
   "outputs": [],
   "source": [
    "# create your own data here:\n",
    "\n",
    "x2 = np.arange(10)\n",
    "\n",
    "y2 = np.random.uniform(size=10)"
   ]
  },
  {
   "cell_type": "markdown",
   "metadata": {},
   "source": [
    "Let's plot this data, along with a legend!"
   ]
  },
  {
   "cell_type": "code",
   "execution_count": 57,
   "metadata": {},
   "outputs": [
    {
     "data": {
      "image/png": "[encoded data removed]",
      "text/plain": [
       "<Figure size 640x480 with 1 Axes>"
      ]
     },
     "metadata": {},
     "output_type": "display_data"
    }
   ],
   "source": [
    "fig, ax = plt.subplots()\n",
    "plt.plot(x, y, label=\"dataset 1\")           # sets the label of the data\n",
    "plt.plot(x2, y2, color='g',label=\"dataset 2\")\n",
    "ax.set_xlabel(\"x\")\n",
    "ax.set_ylabel(\"y\")\n",
    "plt.legend()                                # creates the legend\n",
    "plt.show()"
   ]
  },
  {
   "cell_type": "markdown",
   "metadata": {},
   "source": [
    "We can have as many subplots as we'd like:"
   ]
  },
  {
   "cell_type": "code",
   "execution_count": 58,
   "metadata": {},
   "outputs": [
    {
     "data": {
      "image/png": "[encoded data removed]",
      "text/plain": [
       "<Figure size 640x480 with 2 Axes>"
      ]
     },
     "metadata": {},
     "output_type": "display_data"
    }
   ],
   "source": [
    "fig, (ax1, ax2) = plt.subplots(1, 2)\n",
    "plt.show()"
   ]
  },
  {
   "cell_type": "code",
   "execution_count": 59,
   "metadata": {},
   "outputs": [
    {
     "data": {
      "image/png": "[encoded data removed]",
      "text/plain": [
       "<Figure size 640x480 with 3 Axes>"
      ]
     },
     "metadata": {},
     "output_type": "display_data"
    }
   ],
   "source": [
    "fig, (ax1, ax2, ax3) = plt.subplots(3, 1)\n",
    "plt.show()"
   ]
  },
  {
   "cell_type": "markdown",
   "metadata": {},
   "source": [
    "If we want our plots to share an axis, this can be done very easily"
   ]
  },
  {
   "cell_type": "code",
   "execution_count": 60,
   "metadata": {},
   "outputs": [
    {
     "data": {
      "image/png": "[encoded data removed]",
      "text/plain": [
       "<Figure size 640x480 with 3 Axes>"
      ]
     },
     "metadata": {},
     "output_type": "display_data"
    }
   ],
   "source": [
    "fig, (ax1, ax2, ax3) = plt.subplots(3, 1, sharex=True)\n",
    "plt.show()"
   ]
  },
  {
   "cell_type": "code",
   "execution_count": 61,
   "metadata": {},
   "outputs": [
    {
     "data": {
      "image/png": "[encoded data removed]",
      "text/plain": [
       "<Figure size 640x480 with 3 Axes>"
      ]
     },
     "metadata": {},
     "output_type": "display_data"
    }
   ],
   "source": [
    "fig, (ax1, ax2, ax3) = plt.subplots(1, 3, sharey=True)\n",
    "plt.show()"
   ]
  },
  {
   "cell_type": "markdown",
   "metadata": {},
   "source": [
    "There are many more types of plotting. Here are some examples of more plots:"
   ]
  },
  {
   "cell_type": "code",
   "execution_count": 62,
   "metadata": {},
   "outputs": [
    {
     "data": {
      "image/png": "[encoded data removed]",
      "text/plain": [
       "<Figure size 1600x800 with 8 Axes>"
      ]
     },
     "metadata": {},
     "output_type": "display_data"
    }
   ],
   "source": [
    "# generate some more dummy data for plotting\n",
    "y_top = [i + np.random.uniform(10) for i in y]                          # this data defines the top boundary of the fill_between plot\n",
    "y_bottom = [i - np.random.uniform(10) for i in y]                       # this data defines the bottom boundary of the fill_between plot\n",
    "x_hist = [5, 5, 5, 3, 2, 2, 1, 4, 4, 4, 4]                              # this data is for the histogram plot \n",
    "x_box = np.random.uniform(1, 10, 100)                                   # this data is for the boxplot plot\n",
    "x_err = np.random.uniform(0, 1, 10)                                     # this data is for the errorbar plot\n",
    "y_err = np.random.uniform(1, 10, 10)                                    # this data is for the errorbar plot\n",
    "x_hist2d = np.random.rand(1000)                                         # this data is for the hist2d plot\n",
    "y_hist2d = x_hist2d*np.random.rand(1000)                                # this data is for the hist2d plot\n",
    "\n",
    "\n",
    "fig, axs = plt.subplots(2, 4, figsize=(16,8))       # the figsize changes the size of the figure in the (x, y) direction\n",
    "\n",
    "# first row, first plot\n",
    "axs[0, 0].scatter(x, y)\n",
    "axs[0, 0].set_title(\"scatter\")\n",
    "\n",
    "# first row, second plot\n",
    "axs[0, 1].bar(x, y)\n",
    "axs[0, 1].set_title(\"bar\")\n",
    "\n",
    "# first row, third plot\n",
    "axs[0, 2].stem(x, y)\n",
    "axs[0, 2].set_title(\"stem\")\n",
    "\n",
    "# first row, fourth plot \n",
    "axs[0, 3].plot(x, y)\n",
    "axs[0, 3].fill_between(x, y_top, y_bottom, alpha=0.5)\n",
    "axs[0, 3].set_title(\"fill_between\")\n",
    "\n",
    "# second row, first plot\n",
    "axs[1, 0].hist(x_hist)\n",
    "axs[1, 0].set_title(\"histogram\")\n",
    "\n",
    "# second row, second plot \n",
    "axs[1, 1].boxplot(x_box)\n",
    "axs[1, 1].set_title(\"boxplot\")\n",
    "\n",
    "# second row, third plot\n",
    "axs[1, 2].errorbar(x, y, y_err, x_err, fmt='o', capsize=3)   # fmt='o' set the markers to be points, and capsize=3 sets the length of the top of the errorbars\n",
    "axs[1, 2].set_title(\"errorbar\")\n",
    "\n",
    "# second row, fourth plot \n",
    "axs[1, 3].hist2d(x_hist2d, y_hist2d, bins=20)\n",
    "axs[1, 3].set_title(\"hist2d\")\n",
    "\n",
    "plt.show()\n",
    "\n"
   ]
  },
  {
   "cell_type": "markdown",
   "metadata": {},
   "source": [
    "### Reading in data with pandas \n",
    "Pandas is a useful library that makes working with datasets very easily. There are in-built functions for, e.g., analysing, cleaning, and manipulating data. \n",
    "\n",
    "Let's begin by reading in a rainfall dataset from the Deutscher Wetterdienst. We can read in .csv and .txt files by using the function *read_csv*:"
   ]
  },
  {
   "cell_type": "code",
   "execution_count": 63,
   "metadata": {},
   "outputs": [],
   "source": [
    "data = pd.read_csv(\"produkt_nieder_tag_20230430_20241030_00006.txt\", sep=';')"
   ]
  },
  {
   "cell_type": "markdown",
   "metadata": {},
   "source": [
    "The *sep* keyword allows us to specify how the different columns of data are separated. In this dataset, each column is separated by a semicolon. \n",
    "\n",
    "Let's have a look at the data we have read in below:"
   ]
  },
  {
   "cell_type": "code",
   "execution_count": 64,
   "metadata": {},
   "outputs": [
    {
     "data": {
      "text/html": [
       "<div>\n",
       "<style scoped>\n",
       "    .dataframe tbody tr th:only-of-type {\n",
       "        vertical-align: middle;\n",
       "    }\n",
       "\n",
       "    .dataframe tbody tr th {\n",
       "        vertical-align: top;\n",
       "    }\n",
       "\n",
       "    .dataframe thead th {\n",
       "        text-align: right;\n",
       "    }\n",
       "</style>\n",
       "<table border=\"1\" class=\"dataframe\">\n",
       "  <thead>\n",
       "    <tr style=\"text-align: right;\">\n",
       "      <th></th>\n",
       "      <th>STATIONS_ID</th>\n",
       "      <th>MESS_DATUM</th>\n",
       "      <th>QN_6</th>\n",
       "      <th>RS</th>\n",
       "      <th>RSF</th>\n",
       "      <th>SH_TAG</th>\n",
       "      <th>NSH_TAG</th>\n",
       "      <th>eor</th>\n",
       "    </tr>\n",
       "  </thead>\n",
       "  <tbody>\n",
       "    <tr>\n",
       "      <th>0</th>\n",
       "      <td>6</td>\n",
       "      <td>20230430</td>\n",
       "      <td>3</td>\n",
       "      <td>0.0</td>\n",
       "      <td>6</td>\n",
       "      <td>0</td>\n",
       "      <td>0</td>\n",
       "      <td>eor</td>\n",
       "    </tr>\n",
       "    <tr>\n",
       "      <th>1</th>\n",
       "      <td>6</td>\n",
       "      <td>20230501</td>\n",
       "      <td>3</td>\n",
       "      <td>0.4</td>\n",
       "      <td>6</td>\n",
       "      <td>0</td>\n",
       "      <td>0</td>\n",
       "      <td>eor</td>\n",
       "    </tr>\n",
       "    <tr>\n",
       "      <th>2</th>\n",
       "      <td>6</td>\n",
       "      <td>20230502</td>\n",
       "      <td>3</td>\n",
       "      <td>0.9</td>\n",
       "      <td>6</td>\n",
       "      <td>0</td>\n",
       "      <td>0</td>\n",
       "      <td>eor</td>\n",
       "    </tr>\n",
       "    <tr>\n",
       "      <th>3</th>\n",
       "      <td>6</td>\n",
       "      <td>20230503</td>\n",
       "      <td>3</td>\n",
       "      <td>0.0</td>\n",
       "      <td>0</td>\n",
       "      <td>0</td>\n",
       "      <td>0</td>\n",
       "      <td>eor</td>\n",
       "    </tr>\n",
       "    <tr>\n",
       "      <th>4</th>\n",
       "      <td>6</td>\n",
       "      <td>20230504</td>\n",
       "      <td>3</td>\n",
       "      <td>0.0</td>\n",
       "      <td>0</td>\n",
       "      <td>0</td>\n",
       "      <td>0</td>\n",
       "      <td>eor</td>\n",
       "    </tr>\n",
       "    <tr>\n",
       "      <th>...</th>\n",
       "      <td>...</td>\n",
       "      <td>...</td>\n",
       "      <td>...</td>\n",
       "      <td>...</td>\n",
       "      <td>...</td>\n",
       "      <td>...</td>\n",
       "      <td>...</td>\n",
       "      <td>...</td>\n",
       "    </tr>\n",
       "    <tr>\n",
       "      <th>545</th>\n",
       "      <td>6</td>\n",
       "      <td>20241026</td>\n",
       "      <td>1</td>\n",
       "      <td>0.0</td>\n",
       "      <td>0</td>\n",
       "      <td>0</td>\n",
       "      <td>0</td>\n",
       "      <td>eor</td>\n",
       "    </tr>\n",
       "    <tr>\n",
       "      <th>546</th>\n",
       "      <td>6</td>\n",
       "      <td>20241027</td>\n",
       "      <td>1</td>\n",
       "      <td>0.0</td>\n",
       "      <td>0</td>\n",
       "      <td>0</td>\n",
       "      <td>0</td>\n",
       "      <td>eor</td>\n",
       "    </tr>\n",
       "    <tr>\n",
       "      <th>547</th>\n",
       "      <td>6</td>\n",
       "      <td>20241028</td>\n",
       "      <td>1</td>\n",
       "      <td>0.0</td>\n",
       "      <td>0</td>\n",
       "      <td>0</td>\n",
       "      <td>0</td>\n",
       "      <td>eor</td>\n",
       "    </tr>\n",
       "    <tr>\n",
       "      <th>548</th>\n",
       "      <td>6</td>\n",
       "      <td>20241029</td>\n",
       "      <td>1</td>\n",
       "      <td>0.0</td>\n",
       "      <td>0</td>\n",
       "      <td>0</td>\n",
       "      <td>0</td>\n",
       "      <td>eor</td>\n",
       "    </tr>\n",
       "    <tr>\n",
       "      <th>549</th>\n",
       "      <td>6</td>\n",
       "      <td>20241030</td>\n",
       "      <td>1</td>\n",
       "      <td>0.0</td>\n",
       "      <td>0</td>\n",
       "      <td>0</td>\n",
       "      <td>0</td>\n",
       "      <td>eor</td>\n",
       "    </tr>\n",
       "  </tbody>\n",
       "</table>\n",
       "<p>550 rows × 8 columns</p>\n",
       "</div>"
      ],
      "text/plain": [
       "     STATIONS_ID  MESS_DATUM  QN_6   RS  RSF  SH_TAG  NSH_TAG  eor\n",
       "0              6    20230430     3  0.0    6       0        0  eor\n",
       "1              6    20230501     3  0.4    6       0        0  eor\n",
       "2              6    20230502     3  0.9    6       0        0  eor\n",
       "3              6    20230503     3  0.0    0       0        0  eor\n",
       "4              6    20230504     3  0.0    0       0        0  eor\n",
       "..           ...         ...   ...  ...  ...     ...      ...  ...\n",
       "545            6    20241026     1  0.0    0       0        0  eor\n",
       "546            6    20241027     1  0.0    0       0        0  eor\n",
       "547            6    20241028     1  0.0    0       0        0  eor\n",
       "548            6    20241029     1  0.0    0       0        0  eor\n",
       "549            6    20241030     1  0.0    0       0        0  eor\n",
       "\n",
       "[550 rows x 8 columns]"
      ]
     },
     "execution_count": 64,
     "metadata": {},
     "output_type": "execute_result"
    }
   ],
   "source": [
    "data"
   ]
  },
  {
   "cell_type": "markdown",
   "metadata": {},
   "source": [
    "The various columns are:\n",
    "\n",
    "* STATIONS_ID: the ID of the Deutscher Wetterdienst station \n",
    "* MESS_DATUM: the reference date of the measurement \n",
    "* QN_6: the type of the quality level check of the data \n",
    "* RS: the daily precipitation depth in mm\n",
    "* RSF: numerical code for the type of precipitation \n",
    "* SH_TAG: the snow depth in cm \n",
    "* NSH_TAG: the new snow depth in cm \n",
    "\n",
    "If we only wanted to display the first 10 rows of the data, we can use *head*:"
   ]
  },
  {
   "cell_type": "code",
   "execution_count": 65,
   "metadata": {},
   "outputs": [
    {
     "data": {
      "text/html": [
       "<div>\n",
       "<style scoped>\n",
       "    .dataframe tbody tr th:only-of-type {\n",
       "        vertical-align: middle;\n",
       "    }\n",
       "\n",
       "    .dataframe tbody tr th {\n",
       "        vertical-align: top;\n",
       "    }\n",
       "\n",
       "    .dataframe thead th {\n",
       "        text-align: right;\n",
       "    }\n",
       "</style>\n",
       "<table border=\"1\" class=\"dataframe\">\n",
       "  <thead>\n",
       "    <tr style=\"text-align: right;\">\n",
       "      <th></th>\n",
       "      <th>STATIONS_ID</th>\n",
       "      <th>MESS_DATUM</th>\n",
       "      <th>QN_6</th>\n",
       "      <th>RS</th>\n",
       "      <th>RSF</th>\n",
       "      <th>SH_TAG</th>\n",
       "      <th>NSH_TAG</th>\n",
       "      <th>eor</th>\n",
       "    </tr>\n",
       "  </thead>\n",
       "  <tbody>\n",
       "    <tr>\n",
       "      <th>0</th>\n",
       "      <td>6</td>\n",
       "      <td>20230430</td>\n",
       "      <td>3</td>\n",
       "      <td>0.0</td>\n",
       "      <td>6</td>\n",
       "      <td>0</td>\n",
       "      <td>0</td>\n",
       "      <td>eor</td>\n",
       "    </tr>\n",
       "    <tr>\n",
       "      <th>1</th>\n",
       "      <td>6</td>\n",
       "      <td>20230501</td>\n",
       "      <td>3</td>\n",
       "      <td>0.4</td>\n",
       "      <td>6</td>\n",
       "      <td>0</td>\n",
       "      <td>0</td>\n",
       "      <td>eor</td>\n",
       "    </tr>\n",
       "    <tr>\n",
       "      <th>2</th>\n",
       "      <td>6</td>\n",
       "      <td>20230502</td>\n",
       "      <td>3</td>\n",
       "      <td>0.9</td>\n",
       "      <td>6</td>\n",
       "      <td>0</td>\n",
       "      <td>0</td>\n",
       "      <td>eor</td>\n",
       "    </tr>\n",
       "    <tr>\n",
       "      <th>3</th>\n",
       "      <td>6</td>\n",
       "      <td>20230503</td>\n",
       "      <td>3</td>\n",
       "      <td>0.0</td>\n",
       "      <td>0</td>\n",
       "      <td>0</td>\n",
       "      <td>0</td>\n",
       "      <td>eor</td>\n",
       "    </tr>\n",
       "    <tr>\n",
       "      <th>4</th>\n",
       "      <td>6</td>\n",
       "      <td>20230504</td>\n",
       "      <td>3</td>\n",
       "      <td>0.0</td>\n",
       "      <td>0</td>\n",
       "      <td>0</td>\n",
       "      <td>0</td>\n",
       "      <td>eor</td>\n",
       "    </tr>\n",
       "    <tr>\n",
       "      <th>5</th>\n",
       "      <td>6</td>\n",
       "      <td>20230505</td>\n",
       "      <td>3</td>\n",
       "      <td>8.1</td>\n",
       "      <td>6</td>\n",
       "      <td>0</td>\n",
       "      <td>0</td>\n",
       "      <td>eor</td>\n",
       "    </tr>\n",
       "  </tbody>\n",
       "</table>\n",
       "</div>"
      ],
      "text/plain": [
       "   STATIONS_ID  MESS_DATUM  QN_6   RS  RSF  SH_TAG  NSH_TAG  eor\n",
       "0            6    20230430     3  0.0    6       0        0  eor\n",
       "1            6    20230501     3  0.4    6       0        0  eor\n",
       "2            6    20230502     3  0.9    6       0        0  eor\n",
       "3            6    20230503     3  0.0    0       0        0  eor\n",
       "4            6    20230504     3  0.0    0       0        0  eor\n",
       "5            6    20230505     3  8.1    6       0        0  eor"
      ]
     },
     "execution_count": 65,
     "metadata": {},
     "output_type": "execute_result"
    }
   ],
   "source": [
    "data.head(6)"
   ]
  },
  {
   "cell_type": "markdown",
   "metadata": {},
   "source": [
    "The last 5 rows using *tail*:"
   ]
  },
  {
   "cell_type": "code",
   "execution_count": 66,
   "metadata": {},
   "outputs": [
    {
     "data": {
      "text/html": [
       "<div>\n",
       "<style scoped>\n",
       "    .dataframe tbody tr th:only-of-type {\n",
       "        vertical-align: middle;\n",
       "    }\n",
       "\n",
       "    .dataframe tbody tr th {\n",
       "        vertical-align: top;\n",
       "    }\n",
       "\n",
       "    .dataframe thead th {\n",
       "        text-align: right;\n",
       "    }\n",
       "</style>\n",
       "<table border=\"1\" class=\"dataframe\">\n",
       "  <thead>\n",
       "    <tr style=\"text-align: right;\">\n",
       "      <th></th>\n",
       "      <th>STATIONS_ID</th>\n",
       "      <th>MESS_DATUM</th>\n",
       "      <th>QN_6</th>\n",
       "      <th>RS</th>\n",
       "      <th>RSF</th>\n",
       "      <th>SH_TAG</th>\n",
       "      <th>NSH_TAG</th>\n",
       "      <th>eor</th>\n",
       "    </tr>\n",
       "  </thead>\n",
       "  <tbody>\n",
       "    <tr>\n",
       "      <th>545</th>\n",
       "      <td>6</td>\n",
       "      <td>20241026</td>\n",
       "      <td>1</td>\n",
       "      <td>0.0</td>\n",
       "      <td>0</td>\n",
       "      <td>0</td>\n",
       "      <td>0</td>\n",
       "      <td>eor</td>\n",
       "    </tr>\n",
       "    <tr>\n",
       "      <th>546</th>\n",
       "      <td>6</td>\n",
       "      <td>20241027</td>\n",
       "      <td>1</td>\n",
       "      <td>0.0</td>\n",
       "      <td>0</td>\n",
       "      <td>0</td>\n",
       "      <td>0</td>\n",
       "      <td>eor</td>\n",
       "    </tr>\n",
       "    <tr>\n",
       "      <th>547</th>\n",
       "      <td>6</td>\n",
       "      <td>20241028</td>\n",
       "      <td>1</td>\n",
       "      <td>0.0</td>\n",
       "      <td>0</td>\n",
       "      <td>0</td>\n",
       "      <td>0</td>\n",
       "      <td>eor</td>\n",
       "    </tr>\n",
       "    <tr>\n",
       "      <th>548</th>\n",
       "      <td>6</td>\n",
       "      <td>20241029</td>\n",
       "      <td>1</td>\n",
       "      <td>0.0</td>\n",
       "      <td>0</td>\n",
       "      <td>0</td>\n",
       "      <td>0</td>\n",
       "      <td>eor</td>\n",
       "    </tr>\n",
       "    <tr>\n",
       "      <th>549</th>\n",
       "      <td>6</td>\n",
       "      <td>20241030</td>\n",
       "      <td>1</td>\n",
       "      <td>0.0</td>\n",
       "      <td>0</td>\n",
       "      <td>0</td>\n",
       "      <td>0</td>\n",
       "      <td>eor</td>\n",
       "    </tr>\n",
       "  </tbody>\n",
       "</table>\n",
       "</div>"
      ],
      "text/plain": [
       "     STATIONS_ID  MESS_DATUM  QN_6   RS  RSF  SH_TAG  NSH_TAG  eor\n",
       "545            6    20241026     1  0.0    0       0        0  eor\n",
       "546            6    20241027     1  0.0    0       0        0  eor\n",
       "547            6    20241028     1  0.0    0       0        0  eor\n",
       "548            6    20241029     1  0.0    0       0        0  eor\n",
       "549            6    20241030     1  0.0    0       0        0  eor"
      ]
     },
     "execution_count": 66,
     "metadata": {},
     "output_type": "execute_result"
    }
   ],
   "source": [
    "data.tail(5)"
   ]
  },
  {
   "cell_type": "markdown",
   "metadata": {},
   "source": [
    "For a quick statistical summary of the data, you can use *describe*"
   ]
  },
  {
   "cell_type": "code",
   "execution_count": 67,
   "metadata": {},
   "outputs": [
    {
     "data": {
      "text/html": [
       "<div>\n",
       "<style scoped>\n",
       "    .dataframe tbody tr th:only-of-type {\n",
       "        vertical-align: middle;\n",
       "    }\n",
       "\n",
       "    .dataframe tbody tr th {\n",
       "        vertical-align: top;\n",
       "    }\n",
       "\n",
       "    .dataframe thead th {\n",
       "        text-align: right;\n",
       "    }\n",
       "</style>\n",
       "<table border=\"1\" class=\"dataframe\">\n",
       "  <thead>\n",
       "    <tr style=\"text-align: right;\">\n",
       "      <th></th>\n",
       "      <th>STATIONS_ID</th>\n",
       "      <th>MESS_DATUM</th>\n",
       "      <th>QN_6</th>\n",
       "      <th>RS</th>\n",
       "      <th>RSF</th>\n",
       "      <th>SH_TAG</th>\n",
       "      <th>NSH_TAG</th>\n",
       "    </tr>\n",
       "  </thead>\n",
       "  <tbody>\n",
       "    <tr>\n",
       "      <th>count</th>\n",
       "      <td>550.0</td>\n",
       "      <td>5.500000e+02</td>\n",
       "      <td>550.000000</td>\n",
       "      <td>550.000000</td>\n",
       "      <td>550.000000</td>\n",
       "      <td>550.000000</td>\n",
       "      <td>550.000000</td>\n",
       "    </tr>\n",
       "    <tr>\n",
       "      <th>mean</th>\n",
       "      <td>6.0</td>\n",
       "      <td>2.023623e+07</td>\n",
       "      <td>2.734545</td>\n",
       "      <td>3.006545</td>\n",
       "      <td>3.752727</td>\n",
       "      <td>0.112727</td>\n",
       "      <td>0.047273</td>\n",
       "    </tr>\n",
       "    <tr>\n",
       "      <th>std</th>\n",
       "      <td>0.0</td>\n",
       "      <td>4.835458e+03</td>\n",
       "      <td>0.679177</td>\n",
       "      <td>5.887286</td>\n",
       "      <td>3.007692</td>\n",
       "      <td>0.964781</td>\n",
       "      <td>0.656717</td>\n",
       "    </tr>\n",
       "    <tr>\n",
       "      <th>min</th>\n",
       "      <td>6.0</td>\n",
       "      <td>2.023043e+07</td>\n",
       "      <td>1.000000</td>\n",
       "      <td>0.000000</td>\n",
       "      <td>0.000000</td>\n",
       "      <td>0.000000</td>\n",
       "      <td>0.000000</td>\n",
       "    </tr>\n",
       "    <tr>\n",
       "      <th>25%</th>\n",
       "      <td>6.0</td>\n",
       "      <td>2.023091e+07</td>\n",
       "      <td>3.000000</td>\n",
       "      <td>0.000000</td>\n",
       "      <td>0.000000</td>\n",
       "      <td>0.000000</td>\n",
       "      <td>0.000000</td>\n",
       "    </tr>\n",
       "    <tr>\n",
       "      <th>50%</th>\n",
       "      <td>6.0</td>\n",
       "      <td>2.024013e+07</td>\n",
       "      <td>3.000000</td>\n",
       "      <td>0.100000</td>\n",
       "      <td>6.000000</td>\n",
       "      <td>0.000000</td>\n",
       "      <td>0.000000</td>\n",
       "    </tr>\n",
       "    <tr>\n",
       "      <th>75%</th>\n",
       "      <td>6.0</td>\n",
       "      <td>2.024061e+07</td>\n",
       "      <td>3.000000</td>\n",
       "      <td>3.600000</td>\n",
       "      <td>6.000000</td>\n",
       "      <td>0.000000</td>\n",
       "      <td>0.000000</td>\n",
       "    </tr>\n",
       "    <tr>\n",
       "      <th>max</th>\n",
       "      <td>6.0</td>\n",
       "      <td>2.024103e+07</td>\n",
       "      <td>3.000000</td>\n",
       "      <td>52.500000</td>\n",
       "      <td>8.000000</td>\n",
       "      <td>14.000000</td>\n",
       "      <td>14.000000</td>\n",
       "    </tr>\n",
       "  </tbody>\n",
       "</table>\n",
       "</div>"
      ],
      "text/plain": [
       "       STATIONS_ID    MESS_DATUM        QN_6          RS         RSF   \n",
       "count        550.0  5.500000e+02  550.000000  550.000000  550.000000  \\\n",
       "mean           6.0  2.023623e+07    2.734545    3.006545    3.752727   \n",
       "std            0.0  4.835458e+03    0.679177    5.887286    3.007692   \n",
       "min            6.0  2.023043e+07    1.000000    0.000000    0.000000   \n",
       "25%            6.0  2.023091e+07    3.000000    0.000000    0.000000   \n",
       "50%            6.0  2.024013e+07    3.000000    0.100000    6.000000   \n",
       "75%            6.0  2.024061e+07    3.000000    3.600000    6.000000   \n",
       "max            6.0  2.024103e+07    3.000000   52.500000    8.000000   \n",
       "\n",
       "           SH_TAG     NSH_TAG  \n",
       "count  550.000000  550.000000  \n",
       "mean     0.112727    0.047273  \n",
       "std      0.964781    0.656717  \n",
       "min      0.000000    0.000000  \n",
       "25%      0.000000    0.000000  \n",
       "50%      0.000000    0.000000  \n",
       "75%      0.000000    0.000000  \n",
       "max     14.000000   14.000000  "
      ]
     },
     "execution_count": 67,
     "metadata": {},
     "output_type": "execute_result"
    }
   ],
   "source": [
    "data.describe()"
   ]
  },
  {
   "cell_type": "markdown",
   "metadata": {},
   "source": [
    "We can transpose the data by using *.T*:"
   ]
  },
  {
   "cell_type": "code",
   "execution_count": 68,
   "metadata": {},
   "outputs": [
    {
     "data": {
      "text/html": [
       "<div>\n",
       "<style scoped>\n",
       "    .dataframe tbody tr th:only-of-type {\n",
       "        vertical-align: middle;\n",
       "    }\n",
       "\n",
       "    .dataframe tbody tr th {\n",
       "        vertical-align: top;\n",
       "    }\n",
       "\n",
       "    .dataframe thead th {\n",
       "        text-align: right;\n",
       "    }\n",
       "</style>\n",
       "<table border=\"1\" class=\"dataframe\">\n",
       "  <thead>\n",
       "    <tr style=\"text-align: right;\">\n",
       "      <th></th>\n",
       "      <th>0</th>\n",
       "      <th>1</th>\n",
       "      <th>2</th>\n",
       "      <th>3</th>\n",
       "      <th>4</th>\n",
       "      <th>5</th>\n",
       "      <th>6</th>\n",
       "      <th>7</th>\n",
       "      <th>8</th>\n",
       "      <th>9</th>\n",
       "      <th>...</th>\n",
       "      <th>540</th>\n",
       "      <th>541</th>\n",
       "      <th>542</th>\n",
       "      <th>543</th>\n",
       "      <th>544</th>\n",
       "      <th>545</th>\n",
       "      <th>546</th>\n",
       "      <th>547</th>\n",
       "      <th>548</th>\n",
       "      <th>549</th>\n",
       "    </tr>\n",
       "  </thead>\n",
       "  <tbody>\n",
       "    <tr>\n",
       "      <th>STATIONS_ID</th>\n",
       "      <td>6</td>\n",
       "      <td>6</td>\n",
       "      <td>6</td>\n",
       "      <td>6</td>\n",
       "      <td>6</td>\n",
       "      <td>6</td>\n",
       "      <td>6</td>\n",
       "      <td>6</td>\n",
       "      <td>6</td>\n",
       "      <td>6</td>\n",
       "      <td>...</td>\n",
       "      <td>6</td>\n",
       "      <td>6</td>\n",
       "      <td>6</td>\n",
       "      <td>6</td>\n",
       "      <td>6</td>\n",
       "      <td>6</td>\n",
       "      <td>6</td>\n",
       "      <td>6</td>\n",
       "      <td>6</td>\n",
       "      <td>6</td>\n",
       "    </tr>\n",
       "    <tr>\n",
       "      <th>MESS_DATUM</th>\n",
       "      <td>20230430</td>\n",
       "      <td>20230501</td>\n",
       "      <td>20230502</td>\n",
       "      <td>20230503</td>\n",
       "      <td>20230504</td>\n",
       "      <td>20230505</td>\n",
       "      <td>20230506</td>\n",
       "      <td>20230507</td>\n",
       "      <td>20230508</td>\n",
       "      <td>20230509</td>\n",
       "      <td>...</td>\n",
       "      <td>20241021</td>\n",
       "      <td>20241022</td>\n",
       "      <td>20241023</td>\n",
       "      <td>20241024</td>\n",
       "      <td>20241025</td>\n",
       "      <td>20241026</td>\n",
       "      <td>20241027</td>\n",
       "      <td>20241028</td>\n",
       "      <td>20241029</td>\n",
       "      <td>20241030</td>\n",
       "    </tr>\n",
       "    <tr>\n",
       "      <th>QN_6</th>\n",
       "      <td>3</td>\n",
       "      <td>3</td>\n",
       "      <td>3</td>\n",
       "      <td>3</td>\n",
       "      <td>3</td>\n",
       "      <td>3</td>\n",
       "      <td>3</td>\n",
       "      <td>3</td>\n",
       "      <td>3</td>\n",
       "      <td>3</td>\n",
       "      <td>...</td>\n",
       "      <td>1</td>\n",
       "      <td>1</td>\n",
       "      <td>1</td>\n",
       "      <td>1</td>\n",
       "      <td>1</td>\n",
       "      <td>1</td>\n",
       "      <td>1</td>\n",
       "      <td>1</td>\n",
       "      <td>1</td>\n",
       "      <td>1</td>\n",
       "    </tr>\n",
       "    <tr>\n",
       "      <th>RS</th>\n",
       "      <td>0.0</td>\n",
       "      <td>0.4</td>\n",
       "      <td>0.9</td>\n",
       "      <td>0.0</td>\n",
       "      <td>0.0</td>\n",
       "      <td>8.1</td>\n",
       "      <td>0.0</td>\n",
       "      <td>4.9</td>\n",
       "      <td>1.0</td>\n",
       "      <td>17.7</td>\n",
       "      <td>...</td>\n",
       "      <td>0.0</td>\n",
       "      <td>1.0</td>\n",
       "      <td>0.0</td>\n",
       "      <td>0.0</td>\n",
       "      <td>0.0</td>\n",
       "      <td>0.0</td>\n",
       "      <td>0.0</td>\n",
       "      <td>0.0</td>\n",
       "      <td>0.0</td>\n",
       "      <td>0.0</td>\n",
       "    </tr>\n",
       "    <tr>\n",
       "      <th>RSF</th>\n",
       "      <td>6</td>\n",
       "      <td>6</td>\n",
       "      <td>6</td>\n",
       "      <td>0</td>\n",
       "      <td>0</td>\n",
       "      <td>6</td>\n",
       "      <td>0</td>\n",
       "      <td>6</td>\n",
       "      <td>6</td>\n",
       "      <td>6</td>\n",
       "      <td>...</td>\n",
       "      <td>6</td>\n",
       "      <td>6</td>\n",
       "      <td>6</td>\n",
       "      <td>0</td>\n",
       "      <td>0</td>\n",
       "      <td>0</td>\n",
       "      <td>0</td>\n",
       "      <td>0</td>\n",
       "      <td>0</td>\n",
       "      <td>0</td>\n",
       "    </tr>\n",
       "    <tr>\n",
       "      <th>SH_TAG</th>\n",
       "      <td>0</td>\n",
       "      <td>0</td>\n",
       "      <td>0</td>\n",
       "      <td>0</td>\n",
       "      <td>0</td>\n",
       "      <td>0</td>\n",
       "      <td>0</td>\n",
       "      <td>0</td>\n",
       "      <td>0</td>\n",
       "      <td>0</td>\n",
       "      <td>...</td>\n",
       "      <td>0</td>\n",
       "      <td>0</td>\n",
       "      <td>0</td>\n",
       "      <td>0</td>\n",
       "      <td>0</td>\n",
       "      <td>0</td>\n",
       "      <td>0</td>\n",
       "      <td>0</td>\n",
       "      <td>0</td>\n",
       "      <td>0</td>\n",
       "    </tr>\n",
       "    <tr>\n",
       "      <th>NSH_TAG</th>\n",
       "      <td>0</td>\n",
       "      <td>0</td>\n",
       "      <td>0</td>\n",
       "      <td>0</td>\n",
       "      <td>0</td>\n",
       "      <td>0</td>\n",
       "      <td>0</td>\n",
       "      <td>0</td>\n",
       "      <td>0</td>\n",
       "      <td>0</td>\n",
       "      <td>...</td>\n",
       "      <td>0</td>\n",
       "      <td>0</td>\n",
       "      <td>0</td>\n",
       "      <td>0</td>\n",
       "      <td>0</td>\n",
       "      <td>0</td>\n",
       "      <td>0</td>\n",
       "      <td>0</td>\n",
       "      <td>0</td>\n",
       "      <td>0</td>\n",
       "    </tr>\n",
       "    <tr>\n",
       "      <th>eor</th>\n",
       "      <td>eor</td>\n",
       "      <td>eor</td>\n",
       "      <td>eor</td>\n",
       "      <td>eor</td>\n",
       "      <td>eor</td>\n",
       "      <td>eor</td>\n",
       "      <td>eor</td>\n",
       "      <td>eor</td>\n",
       "      <td>eor</td>\n",
       "      <td>eor</td>\n",
       "      <td>...</td>\n",
       "      <td>eor</td>\n",
       "      <td>eor</td>\n",
       "      <td>eor</td>\n",
       "      <td>eor</td>\n",
       "      <td>eor</td>\n",
       "      <td>eor</td>\n",
       "      <td>eor</td>\n",
       "      <td>eor</td>\n",
       "      <td>eor</td>\n",
       "      <td>eor</td>\n",
       "    </tr>\n",
       "  </tbody>\n",
       "</table>\n",
       "<p>8 rows × 550 columns</p>\n",
       "</div>"
      ],
      "text/plain": [
       "                  0         1         2         3         4         5     \n",
       "STATIONS_ID         6         6         6         6         6         6  \\\n",
       "MESS_DATUM   20230430  20230501  20230502  20230503  20230504  20230505   \n",
       "QN_6                3         3         3         3         3         3   \n",
       "RS                0.0       0.4       0.9       0.0       0.0       8.1   \n",
       "RSF                 6         6         6         0         0         6   \n",
       "SH_TAG              0         0         0         0         0         0   \n",
       "NSH_TAG             0         0         0         0         0         0   \n",
       "eor               eor       eor       eor       eor       eor       eor   \n",
       "\n",
       "                  6         7         8         9    ...       540       541   \n",
       "STATIONS_ID         6         6         6         6  ...         6         6  \\\n",
       "MESS_DATUM   20230506  20230507  20230508  20230509  ...  20241021  20241022   \n",
       "QN_6                3         3         3         3  ...         1         1   \n",
       "RS                0.0       4.9       1.0      17.7  ...       0.0       1.0   \n",
       "RSF                 0         6         6         6  ...         6         6   \n",
       "SH_TAG              0         0         0         0  ...         0         0   \n",
       "NSH_TAG             0         0         0         0  ...         0         0   \n",
       "eor               eor       eor       eor       eor  ...       eor       eor   \n",
       "\n",
       "                  542       543       544       545       546       547   \n",
       "STATIONS_ID         6         6         6         6         6         6  \\\n",
       "MESS_DATUM   20241023  20241024  20241025  20241026  20241027  20241028   \n",
       "QN_6                1         1         1         1         1         1   \n",
       "RS                0.0       0.0       0.0       0.0       0.0       0.0   \n",
       "RSF                 6         0         0         0         0         0   \n",
       "SH_TAG              0         0         0         0         0         0   \n",
       "NSH_TAG             0         0         0         0         0         0   \n",
       "eor               eor       eor       eor       eor       eor       eor   \n",
       "\n",
       "                  548       549  \n",
       "STATIONS_ID         6         6  \n",
       "MESS_DATUM   20241029  20241030  \n",
       "QN_6                1         1  \n",
       "RS                0.0       0.0  \n",
       "RSF                 0         0  \n",
       "SH_TAG              0         0  \n",
       "NSH_TAG             0         0  \n",
       "eor               eor       eor  \n",
       "\n",
       "[8 rows x 550 columns]"
      ]
     },
     "execution_count": 68,
     "metadata": {},
     "output_type": "execute_result"
    }
   ],
   "source": [
    "data.T"
   ]
  },
  {
   "cell_type": "markdown",
   "metadata": {},
   "source": [
    "Sort by values, e.g. by the rainfall amount from largest to smallest:"
   ]
  },
  {
   "cell_type": "code",
   "execution_count": 69,
   "metadata": {},
   "outputs": [
    {
     "data": {
      "text/html": [
       "<div>\n",
       "<style scoped>\n",
       "    .dataframe tbody tr th:only-of-type {\n",
       "        vertical-align: middle;\n",
       "    }\n",
       "\n",
       "    .dataframe tbody tr th {\n",
       "        vertical-align: top;\n",
       "    }\n",
       "\n",
       "    .dataframe thead th {\n",
       "        text-align: right;\n",
       "    }\n",
       "</style>\n",
       "<table border=\"1\" class=\"dataframe\">\n",
       "  <thead>\n",
       "    <tr style=\"text-align: right;\">\n",
       "      <th></th>\n",
       "      <th>STATIONS_ID</th>\n",
       "      <th>MESS_DATUM</th>\n",
       "      <th>QN_6</th>\n",
       "      <th>RS</th>\n",
       "      <th>RSF</th>\n",
       "      <th>SH_TAG</th>\n",
       "      <th>NSH_TAG</th>\n",
       "      <th>eor</th>\n",
       "    </tr>\n",
       "  </thead>\n",
       "  <tbody>\n",
       "    <tr>\n",
       "      <th>397</th>\n",
       "      <td>6</td>\n",
       "      <td>20240531</td>\n",
       "      <td>3</td>\n",
       "      <td>52.5</td>\n",
       "      <td>6</td>\n",
       "      <td>0</td>\n",
       "      <td>0</td>\n",
       "      <td>eor</td>\n",
       "    </tr>\n",
       "    <tr>\n",
       "      <th>398</th>\n",
       "      <td>6</td>\n",
       "      <td>20240601</td>\n",
       "      <td>3</td>\n",
       "      <td>43.2</td>\n",
       "      <td>6</td>\n",
       "      <td>0</td>\n",
       "      <td>0</td>\n",
       "      <td>eor</td>\n",
       "    </tr>\n",
       "    <tr>\n",
       "      <th>200</th>\n",
       "      <td>6</td>\n",
       "      <td>20231116</td>\n",
       "      <td>3</td>\n",
       "      <td>28.5</td>\n",
       "      <td>6</td>\n",
       "      <td>0</td>\n",
       "      <td>0</td>\n",
       "      <td>eor</td>\n",
       "    </tr>\n",
       "    <tr>\n",
       "      <th>96</th>\n",
       "      <td>6</td>\n",
       "      <td>20230804</td>\n",
       "      <td>3</td>\n",
       "      <td>27.0</td>\n",
       "      <td>6</td>\n",
       "      <td>0</td>\n",
       "      <td>0</td>\n",
       "      <td>eor</td>\n",
       "    </tr>\n",
       "    <tr>\n",
       "      <th>90</th>\n",
       "      <td>6</td>\n",
       "      <td>20230729</td>\n",
       "      <td>3</td>\n",
       "      <td>26.1</td>\n",
       "      <td>6</td>\n",
       "      <td>0</td>\n",
       "      <td>0</td>\n",
       "      <td>eor</td>\n",
       "    </tr>\n",
       "    <tr>\n",
       "      <th>...</th>\n",
       "      <td>...</td>\n",
       "      <td>...</td>\n",
       "      <td>...</td>\n",
       "      <td>...</td>\n",
       "      <td>...</td>\n",
       "      <td>...</td>\n",
       "      <td>...</td>\n",
       "      <td>...</td>\n",
       "    </tr>\n",
       "    <tr>\n",
       "      <th>231</th>\n",
       "      <td>6</td>\n",
       "      <td>20231217</td>\n",
       "      <td>3</td>\n",
       "      <td>0.0</td>\n",
       "      <td>0</td>\n",
       "      <td>0</td>\n",
       "      <td>0</td>\n",
       "      <td>eor</td>\n",
       "    </tr>\n",
       "    <tr>\n",
       "      <th>230</th>\n",
       "      <td>6</td>\n",
       "      <td>20231216</td>\n",
       "      <td>3</td>\n",
       "      <td>0.0</td>\n",
       "      <td>6</td>\n",
       "      <td>0</td>\n",
       "      <td>0</td>\n",
       "      <td>eor</td>\n",
       "    </tr>\n",
       "    <tr>\n",
       "      <th>217</th>\n",
       "      <td>6</td>\n",
       "      <td>20231203</td>\n",
       "      <td>3</td>\n",
       "      <td>0.0</td>\n",
       "      <td>0</td>\n",
       "      <td>11</td>\n",
       "      <td>1</td>\n",
       "      <td>eor</td>\n",
       "    </tr>\n",
       "    <tr>\n",
       "      <th>206</th>\n",
       "      <td>6</td>\n",
       "      <td>20231122</td>\n",
       "      <td>3</td>\n",
       "      <td>0.0</td>\n",
       "      <td>0</td>\n",
       "      <td>0</td>\n",
       "      <td>0</td>\n",
       "      <td>eor</td>\n",
       "    </tr>\n",
       "    <tr>\n",
       "      <th>549</th>\n",
       "      <td>6</td>\n",
       "      <td>20241030</td>\n",
       "      <td>1</td>\n",
       "      <td>0.0</td>\n",
       "      <td>0</td>\n",
       "      <td>0</td>\n",
       "      <td>0</td>\n",
       "      <td>eor</td>\n",
       "    </tr>\n",
       "  </tbody>\n",
       "</table>\n",
       "<p>550 rows × 8 columns</p>\n",
       "</div>"
      ],
      "text/plain": [
       "     STATIONS_ID  MESS_DATUM  QN_6    RS  RSF  SH_TAG  NSH_TAG  eor\n",
       "397            6    20240531     3  52.5    6       0        0  eor\n",
       "398            6    20240601     3  43.2    6       0        0  eor\n",
       "200            6    20231116     3  28.5    6       0        0  eor\n",
       "96             6    20230804     3  27.0    6       0        0  eor\n",
       "90             6    20230729     3  26.1    6       0        0  eor\n",
       "..           ...         ...   ...   ...  ...     ...      ...  ...\n",
       "231            6    20231217     3   0.0    0       0        0  eor\n",
       "230            6    20231216     3   0.0    6       0        0  eor\n",
       "217            6    20231203     3   0.0    0      11        1  eor\n",
       "206            6    20231122     3   0.0    0       0        0  eor\n",
       "549            6    20241030     1   0.0    0       0        0  eor\n",
       "\n",
       "[550 rows x 8 columns]"
      ]
     },
     "execution_count": 69,
     "metadata": {},
     "output_type": "execute_result"
    }
   ],
   "source": [
    "data.sort_values(by='RS', ascending=False)"
   ]
  },
  {
   "cell_type": "markdown",
   "metadata": {},
   "source": [
    "The syntax of accessing data within pandas is incredibly similar to that of lists and arrays that we have seen earlier. To access by index, you need to use *iloc* along with the index number or slice. For example, if we wanted data from the first row of the dataset:"
   ]
  },
  {
   "cell_type": "code",
   "execution_count": 70,
   "metadata": {},
   "outputs": [
    {
     "data": {
      "text/plain": [
       "STATIONS_ID           6\n",
       "MESS_DATUM     20230430\n",
       "QN_6                  3\n",
       "RS                  0.0\n",
       "RSF                   6\n",
       "SH_TAG                0\n",
       "NSH_TAG               0\n",
       "eor                 eor\n",
       "Name: 0, dtype: object"
      ]
     },
     "execution_count": 70,
     "metadata": {},
     "output_type": "execute_result"
    }
   ],
   "source": [
    "data.iloc[0]"
   ]
  },
  {
   "cell_type": "markdown",
   "metadata": {},
   "source": [
    "Data from rows 7-10:"
   ]
  },
  {
   "cell_type": "code",
   "execution_count": 71,
   "metadata": {},
   "outputs": [
    {
     "data": {
      "text/html": [
       "<div>\n",
       "<style scoped>\n",
       "    .dataframe tbody tr th:only-of-type {\n",
       "        vertical-align: middle;\n",
       "    }\n",
       "\n",
       "    .dataframe tbody tr th {\n",
       "        vertical-align: top;\n",
       "    }\n",
       "\n",
       "    .dataframe thead th {\n",
       "        text-align: right;\n",
       "    }\n",
       "</style>\n",
       "<table border=\"1\" class=\"dataframe\">\n",
       "  <thead>\n",
       "    <tr style=\"text-align: right;\">\n",
       "      <th></th>\n",
       "      <th>STATIONS_ID</th>\n",
       "      <th>MESS_DATUM</th>\n",
       "      <th>QN_6</th>\n",
       "      <th>RS</th>\n",
       "      <th>RSF</th>\n",
       "      <th>SH_TAG</th>\n",
       "      <th>NSH_TAG</th>\n",
       "      <th>eor</th>\n",
       "    </tr>\n",
       "  </thead>\n",
       "  <tbody>\n",
       "    <tr>\n",
       "      <th>6</th>\n",
       "      <td>6</td>\n",
       "      <td>20230506</td>\n",
       "      <td>3</td>\n",
       "      <td>0.0</td>\n",
       "      <td>0</td>\n",
       "      <td>0</td>\n",
       "      <td>0</td>\n",
       "      <td>eor</td>\n",
       "    </tr>\n",
       "    <tr>\n",
       "      <th>7</th>\n",
       "      <td>6</td>\n",
       "      <td>20230507</td>\n",
       "      <td>3</td>\n",
       "      <td>4.9</td>\n",
       "      <td>6</td>\n",
       "      <td>0</td>\n",
       "      <td>0</td>\n",
       "      <td>eor</td>\n",
       "    </tr>\n",
       "    <tr>\n",
       "      <th>8</th>\n",
       "      <td>6</td>\n",
       "      <td>20230508</td>\n",
       "      <td>3</td>\n",
       "      <td>1.0</td>\n",
       "      <td>6</td>\n",
       "      <td>0</td>\n",
       "      <td>0</td>\n",
       "      <td>eor</td>\n",
       "    </tr>\n",
       "    <tr>\n",
       "      <th>9</th>\n",
       "      <td>6</td>\n",
       "      <td>20230509</td>\n",
       "      <td>3</td>\n",
       "      <td>17.7</td>\n",
       "      <td>6</td>\n",
       "      <td>0</td>\n",
       "      <td>0</td>\n",
       "      <td>eor</td>\n",
       "    </tr>\n",
       "  </tbody>\n",
       "</table>\n",
       "</div>"
      ],
      "text/plain": [
       "   STATIONS_ID  MESS_DATUM  QN_6    RS  RSF  SH_TAG  NSH_TAG  eor\n",
       "6            6    20230506     3   0.0    0       0        0  eor\n",
       "7            6    20230507     3   4.9    6       0        0  eor\n",
       "8            6    20230508     3   1.0    6       0        0  eor\n",
       "9            6    20230509     3  17.7    6       0        0  eor"
      ]
     },
     "execution_count": 71,
     "metadata": {},
     "output_type": "execute_result"
    }
   ],
   "source": [
    "data.iloc[6:10]"
   ]
  },
  {
   "cell_type": "markdown",
   "metadata": {},
   "source": [
    "Data from column 4:"
   ]
  },
  {
   "cell_type": "code",
   "execution_count": 72,
   "metadata": {},
   "outputs": [
    {
     "data": {
      "text/plain": [
       "0      0.0\n",
       "1      0.4\n",
       "2      0.9\n",
       "3      0.0\n",
       "4      0.0\n",
       "      ... \n",
       "545    0.0\n",
       "546    0.0\n",
       "547    0.0\n",
       "548    0.0\n",
       "549    0.0\n",
       "Name: RS, Length: 550, dtype: float64"
      ]
     },
     "execution_count": 72,
     "metadata": {},
     "output_type": "execute_result"
    }
   ],
   "source": [
    "data.iloc[:,3]"
   ]
  },
  {
   "cell_type": "markdown",
   "metadata": {},
   "source": [
    "One main difference is that we can also access points by column name. There are three methods to do so:"
   ]
  },
  {
   "cell_type": "code",
   "execution_count": 73,
   "metadata": {},
   "outputs": [
    {
     "data": {
      "text/plain": [
       "0      20230430\n",
       "1      20230501\n",
       "2      20230502\n",
       "3      20230503\n",
       "4      20230504\n",
       "         ...   \n",
       "545    20241026\n",
       "546    20241027\n",
       "547    20241028\n",
       "548    20241029\n",
       "549    20241030\n",
       "Name: MESS_DATUM, Length: 550, dtype: int64"
      ]
     },
     "execution_count": 73,
     "metadata": {},
     "output_type": "execute_result"
    }
   ],
   "source": [
    "data.loc[:,\"MESS_DATUM\"]"
   ]
  },
  {
   "cell_type": "code",
   "execution_count": 74,
   "metadata": {},
   "outputs": [
    {
     "data": {
      "text/plain": [
       "0      20230430\n",
       "1      20230501\n",
       "2      20230502\n",
       "3      20230503\n",
       "4      20230504\n",
       "         ...   \n",
       "545    20241026\n",
       "546    20241027\n",
       "547    20241028\n",
       "548    20241029\n",
       "549    20241030\n",
       "Name: MESS_DATUM, Length: 550, dtype: int64"
      ]
     },
     "execution_count": 74,
     "metadata": {},
     "output_type": "execute_result"
    }
   ],
   "source": [
    "data[\"MESS_DATUM\"]"
   ]
  },
  {
   "cell_type": "code",
   "execution_count": 75,
   "metadata": {},
   "outputs": [
    {
     "data": {
      "text/plain": [
       "0      20230430\n",
       "1      20230501\n",
       "2      20230502\n",
       "3      20230503\n",
       "4      20230504\n",
       "         ...   \n",
       "545    20241026\n",
       "546    20241027\n",
       "547    20241028\n",
       "548    20241029\n",
       "549    20241030\n",
       "Name: MESS_DATUM, Length: 550, dtype: int64"
      ]
     },
     "execution_count": 75,
     "metadata": {},
     "output_type": "execute_result"
    }
   ],
   "source": [
    "data.MESS_DATUM"
   ]
  },
  {
   "cell_type": "markdown",
   "metadata": {},
   "source": [
    "These methods are equivalent, and depend on your preference.\n",
    "\n",
    "If we wanted more than one column, e.g. date and rainfall, then there are only two methods to do so:"
   ]
  },
  {
   "cell_type": "code",
   "execution_count": 76,
   "metadata": {},
   "outputs": [
    {
     "data": {
      "text/html": [
       "<div>\n",
       "<style scoped>\n",
       "    .dataframe tbody tr th:only-of-type {\n",
       "        vertical-align: middle;\n",
       "    }\n",
       "\n",
       "    .dataframe tbody tr th {\n",
       "        vertical-align: top;\n",
       "    }\n",
       "\n",
       "    .dataframe thead th {\n",
       "        text-align: right;\n",
       "    }\n",
       "</style>\n",
       "<table border=\"1\" class=\"dataframe\">\n",
       "  <thead>\n",
       "    <tr style=\"text-align: right;\">\n",
       "      <th></th>\n",
       "      <th>MESS_DATUM</th>\n",
       "      <th>RS</th>\n",
       "    </tr>\n",
       "  </thead>\n",
       "  <tbody>\n",
       "    <tr>\n",
       "      <th>0</th>\n",
       "      <td>20230430</td>\n",
       "      <td>0.0</td>\n",
       "    </tr>\n",
       "    <tr>\n",
       "      <th>1</th>\n",
       "      <td>20230501</td>\n",
       "      <td>0.4</td>\n",
       "    </tr>\n",
       "    <tr>\n",
       "      <th>2</th>\n",
       "      <td>20230502</td>\n",
       "      <td>0.9</td>\n",
       "    </tr>\n",
       "    <tr>\n",
       "      <th>3</th>\n",
       "      <td>20230503</td>\n",
       "      <td>0.0</td>\n",
       "    </tr>\n",
       "    <tr>\n",
       "      <th>4</th>\n",
       "      <td>20230504</td>\n",
       "      <td>0.0</td>\n",
       "    </tr>\n",
       "    <tr>\n",
       "      <th>...</th>\n",
       "      <td>...</td>\n",
       "      <td>...</td>\n",
       "    </tr>\n",
       "    <tr>\n",
       "      <th>545</th>\n",
       "      <td>20241026</td>\n",
       "      <td>0.0</td>\n",
       "    </tr>\n",
       "    <tr>\n",
       "      <th>546</th>\n",
       "      <td>20241027</td>\n",
       "      <td>0.0</td>\n",
       "    </tr>\n",
       "    <tr>\n",
       "      <th>547</th>\n",
       "      <td>20241028</td>\n",
       "      <td>0.0</td>\n",
       "    </tr>\n",
       "    <tr>\n",
       "      <th>548</th>\n",
       "      <td>20241029</td>\n",
       "      <td>0.0</td>\n",
       "    </tr>\n",
       "    <tr>\n",
       "      <th>549</th>\n",
       "      <td>20241030</td>\n",
       "      <td>0.0</td>\n",
       "    </tr>\n",
       "  </tbody>\n",
       "</table>\n",
       "<p>550 rows × 2 columns</p>\n",
       "</div>"
      ],
      "text/plain": [
       "     MESS_DATUM   RS\n",
       "0      20230430  0.0\n",
       "1      20230501  0.4\n",
       "2      20230502  0.9\n",
       "3      20230503  0.0\n",
       "4      20230504  0.0\n",
       "..          ...  ...\n",
       "545    20241026  0.0\n",
       "546    20241027  0.0\n",
       "547    20241028  0.0\n",
       "548    20241029  0.0\n",
       "549    20241030  0.0\n",
       "\n",
       "[550 rows x 2 columns]"
      ]
     },
     "execution_count": 76,
     "metadata": {},
     "output_type": "execute_result"
    }
   ],
   "source": [
    "data[[\"MESS_DATUM\", \"RS\"]]"
   ]
  },
  {
   "cell_type": "code",
   "execution_count": 77,
   "metadata": {},
   "outputs": [
    {
     "data": {
      "text/html": [
       "<div>\n",
       "<style scoped>\n",
       "    .dataframe tbody tr th:only-of-type {\n",
       "        vertical-align: middle;\n",
       "    }\n",
       "\n",
       "    .dataframe tbody tr th {\n",
       "        vertical-align: top;\n",
       "    }\n",
       "\n",
       "    .dataframe thead th {\n",
       "        text-align: right;\n",
       "    }\n",
       "</style>\n",
       "<table border=\"1\" class=\"dataframe\">\n",
       "  <thead>\n",
       "    <tr style=\"text-align: right;\">\n",
       "      <th></th>\n",
       "      <th>MESS_DATUM</th>\n",
       "      <th>RS</th>\n",
       "    </tr>\n",
       "  </thead>\n",
       "  <tbody>\n",
       "    <tr>\n",
       "      <th>0</th>\n",
       "      <td>20230430</td>\n",
       "      <td>0.0</td>\n",
       "    </tr>\n",
       "    <tr>\n",
       "      <th>1</th>\n",
       "      <td>20230501</td>\n",
       "      <td>0.4</td>\n",
       "    </tr>\n",
       "    <tr>\n",
       "      <th>2</th>\n",
       "      <td>20230502</td>\n",
       "      <td>0.9</td>\n",
       "    </tr>\n",
       "    <tr>\n",
       "      <th>3</th>\n",
       "      <td>20230503</td>\n",
       "      <td>0.0</td>\n",
       "    </tr>\n",
       "    <tr>\n",
       "      <th>4</th>\n",
       "      <td>20230504</td>\n",
       "      <td>0.0</td>\n",
       "    </tr>\n",
       "    <tr>\n",
       "      <th>...</th>\n",
       "      <td>...</td>\n",
       "      <td>...</td>\n",
       "    </tr>\n",
       "    <tr>\n",
       "      <th>545</th>\n",
       "      <td>20241026</td>\n",
       "      <td>0.0</td>\n",
       "    </tr>\n",
       "    <tr>\n",
       "      <th>546</th>\n",
       "      <td>20241027</td>\n",
       "      <td>0.0</td>\n",
       "    </tr>\n",
       "    <tr>\n",
       "      <th>547</th>\n",
       "      <td>20241028</td>\n",
       "      <td>0.0</td>\n",
       "    </tr>\n",
       "    <tr>\n",
       "      <th>548</th>\n",
       "      <td>20241029</td>\n",
       "      <td>0.0</td>\n",
       "    </tr>\n",
       "    <tr>\n",
       "      <th>549</th>\n",
       "      <td>20241030</td>\n",
       "      <td>0.0</td>\n",
       "    </tr>\n",
       "  </tbody>\n",
       "</table>\n",
       "<p>550 rows × 2 columns</p>\n",
       "</div>"
      ],
      "text/plain": [
       "     MESS_DATUM   RS\n",
       "0      20230430  0.0\n",
       "1      20230501  0.4\n",
       "2      20230502  0.9\n",
       "3      20230503  0.0\n",
       "4      20230504  0.0\n",
       "..          ...  ...\n",
       "545    20241026  0.0\n",
       "546    20241027  0.0\n",
       "547    20241028  0.0\n",
       "548    20241029  0.0\n",
       "549    20241030  0.0\n",
       "\n",
       "[550 rows x 2 columns]"
      ]
     },
     "execution_count": 77,
     "metadata": {},
     "output_type": "execute_result"
    }
   ],
   "source": [
    "data.loc[:,[\"MESS_DATUM\", \"RS\"]]"
   ]
  },
  {
   "cell_type": "markdown",
   "metadata": {},
   "source": [
    "Let's create a plot of the rainfall data! You can use matplotlib.pyplot with pandas data super easily. The downside is that it is not as customisable."
   ]
  },
  {
   "cell_type": "code",
   "execution_count": 78,
   "metadata": {},
   "outputs": [
    {
     "data": {
      "text/plain": [
       "<AxesSubplot: xlabel='MESS_DATUM'>"
      ]
     },
     "execution_count": 78,
     "metadata": {},
     "output_type": "execute_result"
    },
    {
     "data": {
      "image/png": "[encoded data removed]",
      "text/plain": [
       "<Figure size 640x480 with 1 Axes>"
      ]
     },
     "metadata": {},
     "output_type": "display_data"
    }
   ],
   "source": [
    "data.plot(\"MESS_DATUM\", \"RS\")"
   ]
  },
  {
   "cell_type": "code",
   "execution_count": 79,
   "metadata": {},
   "outputs": [
    {
     "data": {
      "image/png": "[encoded data removed]",
      "text/plain": [
       "<Figure size 640x480 with 1 Axes>"
      ]
     },
     "metadata": {},
     "output_type": "display_data"
    }
   ],
   "source": [
    "fig, ax = plt.subplots()\n",
    "plt.plot(data.MESS_DATUM, data.RS)\n",
    "ax.set_ylabel(\"rainfall (mm)\")\n",
    "plt.show()"
   ]
  },
  {
   "cell_type": "markdown",
   "metadata": {},
   "source": [
    "Notice how in these plots, our dates are in the wrong format. This can be easily fixed using the datetime library. We can install it by"
   ]
  },
  {
   "cell_type": "code",
   "execution_count": null,
   "metadata": {},
   "outputs": [],
   "source": [
    "%pip install datetime"
   ]
  },
  {
   "cell_type": "markdown",
   "metadata": {},
   "source": [
    "and load it"
   ]
  },
  {
   "cell_type": "code",
   "execution_count": 81,
   "metadata": {},
   "outputs": [],
   "source": [
    "import datetime"
   ]
  },
  {
   "cell_type": "markdown",
   "metadata": {},
   "source": [
    "Let's keep the same format of YYYY-MM-DD, but instead convert it into a datetime object. The most commonly used formatting codes are \n",
    "\n",
    "* %Y for a 4-digit year \n",
    "* %y for a 2-digit year \n",
    "* %m for a 2-digit month \n",
    "* %d for a 2-digit day \n",
    "* %H for a 2-digit hour\n",
    "* %M for a 2-digit minute\n",
    "* %S for a 2-digit second\n",
    "\n",
    "We can use the *datetime.strptime* function that takes a date represented as a string, and converts it into a datetime object. We can convert the data values into a string by using *str()*"
   ]
  },
  {
   "cell_type": "code",
   "execution_count": null,
   "metadata": {},
   "outputs": [],
   "source": [
    "date_format = '%Y%m%d'\n",
    "dates = [datetime.datetime.strptime(str(i), date_format) for i in data.MESS_DATUM]"
   ]
  },
  {
   "cell_type": "markdown",
   "metadata": {},
   "source": [
    "Now we can replot the data:"
   ]
  },
  {
   "cell_type": "code",
   "execution_count": 83,
   "metadata": {},
   "outputs": [
    {
     "data": {
      "image/png": "[encoded data removed]",
      "text/plain": [
       "<Figure size 640x480 with 1 Axes>"
      ]
     },
     "metadata": {},
     "output_type": "display_data"
    }
   ],
   "source": [
    "fig, ax = plt.subplots()\n",
    "plt.plot(dates, data.RS)\n",
    "ax.set_ylabel(\"rainfall (mm)\")\n",
    "plt.show()"
   ]
  },
  {
   "cell_type": "markdown",
   "metadata": {},
   "source": [
    "Notice how it's difficult to read the dates on the x-axis. There are two ways that we can make it more readable by using matplotlib's mdates:"
   ]
  },
  {
   "cell_type": "code",
   "execution_count": 84,
   "metadata": {},
   "outputs": [],
   "source": [
    "import matplotlib.dates as mdates"
   ]
  },
  {
   "cell_type": "code",
   "execution_count": 85,
   "metadata": {},
   "outputs": [
    {
     "data": {
      "image/png": "[encoded data removed]",
      "text/plain": [
       "<Figure size 640x480 with 1 Axes>"
      ]
     },
     "metadata": {},
     "output_type": "display_data"
    }
   ],
   "source": [
    "fig, ax = plt.subplots()\n",
    "plt.plot(dates, data.RS)\n",
    "ax.set_ylabel(\"rainfall (mm)\")\n",
    "ax.xaxis.set_major_formatter(mdates.ConciseDateFormatter(ax.xaxis.get_major_locator()))\n",
    "plt.show()"
   ]
  },
  {
   "cell_type": "code",
   "execution_count": 86,
   "metadata": {},
   "outputs": [
    {
     "data": {
      "image/png": "[encoded data removed]",
      "text/plain": [
       "<Figure size 640x480 with 1 Axes>"
      ]
     },
     "metadata": {},
     "output_type": "display_data"
    }
   ],
   "source": [
    "fig, ax = plt.subplots()\n",
    "plt.plot(dates, data.RS)\n",
    "ax.set_ylabel(\"rainfall (mm)\")\n",
    "for label in ax.get_xticklabels(which='major'):\n",
    "    label.set(rotation=30, horizontalalignment='right')\n",
    "plt.show()"
   ]
  },
  {
   "cell_type": "markdown",
   "metadata": {},
   "source": [
    "# Exercises \n",
    "### Exercise 1 \n",
    "Recall that the normal distribution is defined as \n",
    "\n",
    "$$ p(x) = \\frac{1}{\\sqrt{2\\pi\\sigma^2}} \\exp\\left[ -\\frac{(x-\\mu)^2}{2\\sigma^2}\\right]$$\n",
    "\n",
    "Create your own function that returns the probability of a given value $x$ for some input mean $\\mu$ and standard deviation $\\sigma$. Using this function, create some dummy x-data and plot the x-values vs. their probability. "
   ]
  },
  {
   "cell_type": "code",
   "execution_count": 87,
   "metadata": {},
   "outputs": [],
   "source": [
    "# your code here "
   ]
  },
  {
   "cell_type": "markdown",
   "metadata": {},
   "source": [
    "### Exercise 2\n",
    "Using the Deutscher Wetterdienst data from earlier, plot the culmulative rainfall over the date range. What is the total amount of rain in mm over the date range?"
   ]
  },
  {
   "cell_type": "code",
   "execution_count": 88,
   "metadata": {},
   "outputs": [],
   "source": [
    "# your code here"
   ]
  },
  {
   "cell_type": "markdown",
   "metadata": {},
   "source": [
    "### Exercise 3\n",
    "Using the Deutscher Wetterdienst data from earlier, plot the snow depth for December 2023, as well as a horizontal line indicating the mean snow depth for December."
   ]
  },
  {
   "cell_type": "code",
   "execution_count": 89,
   "metadata": {},
   "outputs": [],
   "source": [
    "# your code here"
   ]
  }
 ],
 "metadata": {
  "kernelspec": {
   "display_name": "Python 3 (ipykernel)",
   "language": "python",
   "name": "python3"
  },
  "language_info": {
   "codemirror_mode": {
    "name": "ipython",
    "version": 3
   },
   "file_extension": ".py",
   "mimetype": "text/x-python",
   "name": "python",
   "nbconvert_exporter": "python",
   "pygments_lexer": "ipython3",
   "version": "3.10.12"
  }
 },
 "nbformat": 4,
 "nbformat_minor": 4
}
