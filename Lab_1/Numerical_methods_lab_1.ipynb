{
 "cells": [
  {
   "cell_type": "markdown",
   "metadata": {},
   "source": [
    "# Numerical Methods Lab 1: Introduction to Python\n",
    "\n"
   ]
  },
  {
   "cell_type": "markdown",
   "metadata": {},
   "source": [
    "### Getting started\n",
    "\n",
    "xkcd comic #353: Python\n",
    "\n",
    "![xkcd: Python](python.png)\n",
    "\n",
    "Python is one of the most popular programming languages due to its simplicity, readability, and large variety of libraries (as well as many other reasons!). Python has a wide range of uses, for example: \n",
    "\n",
    "* Data analysis & visualisation \n",
    "* Scripting \n",
    "* Machine learning \n",
    "* Web applications "
   ]
  },
  {
   "cell_type": "markdown",
   "metadata": {},
   "source": [
    "Python is dynamically typed, meaning you can do some very funky things with variables: "
   ]
  },
  {
   "cell_type": "code",
   "execution_count": null,
   "metadata": {},
   "outputs": [],
   "source": [
    "x = 4\n",
    "print(x)\n",
    "\n",
    "x = \"Hello!\"\n",
    "print(x)"
   ]
  },
  {
   "cell_type": "markdown",
   "metadata": {},
   "source": [
    "Notice that I have included *print* statements. This prints out the value of whatever is contained within the brackets. For example, you can print out the text \"Hello, world!\" like this:"
   ]
  },
  {
   "cell_type": "code",
   "execution_count": null,
   "metadata": {},
   "outputs": [],
   "source": [
    "print(\"Hello, world!\")"
   ]
  },
  {
   "cell_type": "markdown",
   "metadata": {},
   "source": [
    "There are many libraries that have been created to add more functionality to base Python. For example, *scipy* is a library that is widely used for common tasks in science and engineering, and we will be using it later on in this lab course. \n",
    "\n",
    "You can install libraries through **pip**, e.g.:"
   ]
  },
  {
   "cell_type": "code",
   "execution_count": null,
   "metadata": {},
   "outputs": [],
   "source": [
    "%pip install scipy"
   ]
  },
  {
   "cell_type": "markdown",
   "metadata": {},
   "source": [
    "and then import the library using the command"
   ]
  },
  {
   "cell_type": "code",
   "execution_count": null,
   "metadata": {},
   "outputs": [],
   "source": [
    "import scipy"
   ]
  },
  {
   "cell_type": "markdown",
   "metadata": {},
   "source": [
    "### Types \n",
    "\n",
    "There are a wide range of variable types in Python. The most basic type is an *integer*, which is a whole number that can be negative, or positive. Examples of integers include:"
   ]
  },
  {
   "cell_type": "code",
   "execution_count": null,
   "metadata": {},
   "outputs": [],
   "source": [
    "7 \n",
    "-26 \n",
    "123456789"
   ]
  },
  {
   "cell_type": "markdown",
   "metadata": {},
   "source": [
    "You can check the type using the following command:"
   ]
  },
  {
   "cell_type": "code",
   "execution_count": null,
   "metadata": {},
   "outputs": [],
   "source": [
    "type(7)"
   ]
  },
  {
   "cell_type": "markdown",
   "metadata": {},
   "source": [
    "A *float* is a decimal number, for example:"
   ]
  },
  {
   "cell_type": "code",
   "execution_count": null,
   "metadata": {},
   "outputs": [],
   "source": [
    "6.0 \n",
    "3.14159 \n",
    "-7.214"
   ]
  },
  {
   "cell_type": "code",
   "execution_count": null,
   "metadata": {},
   "outputs": [],
   "source": [
    "print(type(6))\n",
    "print(type(6.0))"
   ]
  },
  {
   "cell_type": "markdown",
   "metadata": {},
   "source": [
    "A *string* is a list of numbers, characters and whitespace included within quotation marks, for example:"
   ]
  },
  {
   "cell_type": "code",
   "execution_count": null,
   "metadata": {},
   "outputs": [],
   "source": [
    "\"a\" \n",
    "\"abcde\"\n",
    "\"123\"\n",
    "\"number 1\""
   ]
  },
  {
   "cell_type": "code",
   "execution_count": null,
   "metadata": {},
   "outputs": [],
   "source": [
    "print(type(1))\n",
    "print(type(\"1\"))\n",
    "print(type(\" \"))"
   ]
  },
  {
   "cell_type": "markdown",
   "metadata": {},
   "source": [
    "A *boolean* is a logical: i.e., it is either true or false:"
   ]
  },
  {
   "cell_type": "code",
   "execution_count": null,
   "metadata": {},
   "outputs": [],
   "source": [
    "True \n",
    "False"
   ]
  },
  {
   "cell_type": "code",
   "execution_count": null,
   "metadata": {},
   "outputs": [],
   "source": [
    "print(type(True))"
   ]
  },
  {
   "cell_type": "markdown",
   "metadata": {},
   "source": [
    "A *list* is a way to store a collection of data, denoted by square brackets. The data within the list does not have to be of the same type:"
   ]
  },
  {
   "cell_type": "code",
   "execution_count": null,
   "metadata": {},
   "outputs": [],
   "source": [
    "[1, 2, 3]\n",
    "[1, \"a\", True, 3.4]\n",
    "[\"h\", \"e\", \"l\", \"l\", \"o\"]"
   ]
  },
  {
   "cell_type": "markdown",
   "metadata": {},
   "source": [
    "You can also have lists of lists: "
   ]
  },
  {
   "cell_type": "code",
   "execution_count": null,
   "metadata": {},
   "outputs": [],
   "source": [
    "[[1, 2, 3], [4, 5, 6], [7, 8, 9]]\n",
    "[1, [\"a\", \"apple\"], 3]\n",
    "[1, [1, 2, [3, 4]], 5]"
   ]
  },
  {
   "cell_type": "markdown",
   "metadata": {},
   "source": [
    "### Operators \n",
    "\n",
    "Operators are special symbols used to perform operations on values and variables. The most basic operators are\n",
    "\n",
    "* Addition: '+'\n",
    "* Subtraction: '-'\n",
    "* Multiplication: '*'\n",
    "* Division: '/' \n",
    "* Exponents: '**'\n",
    "\n",
    "For example:"
   ]
  },
  {
   "cell_type": "code",
   "execution_count": null,
   "metadata": {},
   "outputs": [],
   "source": [
    "1 + 1"
   ]
  },
  {
   "cell_type": "code",
   "execution_count": null,
   "metadata": {},
   "outputs": [],
   "source": [
    "5 - 3"
   ]
  },
  {
   "cell_type": "code",
   "execution_count": null,
   "metadata": {},
   "outputs": [],
   "source": [
    "12 * 8"
   ]
  },
  {
   "cell_type": "code",
   "execution_count": null,
   "metadata": {},
   "outputs": [],
   "source": [
    "24 / 4"
   ]
  },
  {
   "cell_type": "code",
   "execution_count": null,
   "metadata": {},
   "outputs": [],
   "source": [
    "3**2"
   ]
  },
  {
   "cell_type": "markdown",
   "metadata": {},
   "source": [
    "What do you think the order of operations is in Python? For example, what would be the value of $6 + 2 - 4 \\: / \\: 2$ ? \n",
    "\n",
    "In order to not get caught out, we can use brackets to ensure things are calculated in the order that we would like:"
   ]
  },
  {
   "cell_type": "code",
   "execution_count": null,
   "metadata": {},
   "outputs": [],
   "source": [
    "6 + 2 - 4 / 2"
   ]
  },
  {
   "cell_type": "code",
   "execution_count": null,
   "metadata": {},
   "outputs": [],
   "source": [
    "(6 + 2 - 4) / 2"
   ]
  },
  {
   "cell_type": "markdown",
   "metadata": {},
   "source": [
    "Another useful operation is the modulus, %, which returns the remainder when one number is divided by the other"
   ]
  },
  {
   "cell_type": "code",
   "execution_count": null,
   "metadata": {},
   "outputs": [],
   "source": [
    "10 % 10"
   ]
  },
  {
   "cell_type": "code",
   "execution_count": null,
   "metadata": {},
   "outputs": [],
   "source": [
    "10 % 3"
   ]
  },
  {
   "cell_type": "code",
   "execution_count": null,
   "metadata": {},
   "outputs": [],
   "source": [
    "3 % 4"
   ]
  },
  {
   "cell_type": "markdown",
   "metadata": {},
   "source": [
    "There are also logical operators, which return a boolean (True or False) result:\n",
    "\n",
    "* Greater than: '>'\n",
    "* Less than: '<'\n",
    "* Greater than or equal to: '>=' \n",
    "* Less than or equal to: '<='\n",
    "* Equals: '=='\n",
    "* Not equal to: '!='\n",
    "\n",
    "For example:"
   ]
  },
  {
   "cell_type": "code",
   "execution_count": null,
   "metadata": {},
   "outputs": [],
   "source": [
    "4 > 3"
   ]
  },
  {
   "cell_type": "code",
   "execution_count": null,
   "metadata": {},
   "outputs": [],
   "source": [
    "3 > 4"
   ]
  },
  {
   "cell_type": "markdown",
   "metadata": {},
   "source": [
    "### More on lists\n",
    "\n",
    "Remember that lists are a way of storing data, but once it's stored, how would we access this data? \n",
    "\n",
    "Let's first create a list containing five items"
   ]
  },
  {
   "cell_type": "code",
   "execution_count": 30,
   "metadata": {},
   "outputs": [],
   "source": [
    "my_list = []    # fill out this list with five items"
   ]
  },
  {
   "cell_type": "markdown",
   "metadata": {},
   "source": [
    "Lists in Python are indexed from $0, 1, ..., N - 1$ for $N$ items in a list. We can access any item like this:"
   ]
  },
  {
   "cell_type": "code",
   "execution_count": null,
   "metadata": {},
   "outputs": [],
   "source": [
    "my_list[0]"
   ]
  },
  {
   "cell_type": "code",
   "execution_count": null,
   "metadata": {},
   "outputs": [],
   "source": [
    "my_list[3]"
   ]
  },
  {
   "cell_type": "markdown",
   "metadata": {},
   "source": [
    "If we try to access an index that is greater than the number of items in the list, an error occurs:"
   ]
  },
  {
   "cell_type": "code",
   "execution_count": null,
   "metadata": {},
   "outputs": [],
   "source": [
    "my_list[5]"
   ]
  },
  {
   "cell_type": "markdown",
   "metadata": {},
   "source": [
    "We can also access a slice of the list:"
   ]
  },
  {
   "cell_type": "code",
   "execution_count": null,
   "metadata": {},
   "outputs": [],
   "source": [
    "my_list[1:3]"
   ]
  },
  {
   "cell_type": "code",
   "execution_count": null,
   "metadata": {},
   "outputs": [],
   "source": [
    "my_list[:2] # this gives us the first 3 items in the list"
   ]
  },
  {
   "cell_type": "code",
   "execution_count": null,
   "metadata": {},
   "outputs": [],
   "source": [
    "my_list[3:] # this gives us all of the items of the list that are after the 3rd item"
   ]
  },
  {
   "cell_type": "markdown",
   "metadata": {},
   "source": [
    "You can also concatenate lists together using the '+' operator. For example:"
   ]
  },
  {
   "cell_type": "code",
   "execution_count": null,
   "metadata": {},
   "outputs": [],
   "source": [
    "another_list = [1, \"a\", \"banana\"]\n",
    "\n",
    "new_list = my_list + another_list\n",
    "\n",
    "print(new_list)"
   ]
  },
  {
   "cell_type": "markdown",
   "metadata": {},
   "source": [
    "You can find out how long a list is by using *len*:"
   ]
  },
  {
   "cell_type": "code",
   "execution_count": null,
   "metadata": {},
   "outputs": [],
   "source": [
    "len(new_list)"
   ]
  },
  {
   "cell_type": "markdown",
   "metadata": {},
   "source": [
    "Items in a list do not have to stay the same. You can very easily change what is contained within a list like this:"
   ]
  },
  {
   "cell_type": "code",
   "execution_count": null,
   "metadata": {},
   "outputs": [],
   "source": [
    "print(new_list)\n",
    "\n",
    "new_list[7] = \"orange\" \n",
    "\n",
    "print(new_list)"
   ]
  },
  {
   "cell_type": "markdown",
   "metadata": {},
   "source": [
    "You can add items to a list by using *append*:"
   ]
  },
  {
   "cell_type": "code",
   "execution_count": null,
   "metadata": {},
   "outputs": [],
   "source": [
    "new_list.append(42)"
   ]
  },
  {
   "cell_type": "markdown",
   "metadata": {},
   "source": [
    "And you can remove items by using *remove*:"
   ]
  },
  {
   "cell_type": "code",
   "execution_count": null,
   "metadata": {},
   "outputs": [],
   "source": [
    "new_list.remove(42)"
   ]
  },
  {
   "cell_type": "markdown",
   "metadata": {},
   "source": [
    "You can check what index an item is using *.index()* "
   ]
  },
  {
   "cell_type": "code",
   "execution_count": null,
   "metadata": {},
   "outputs": [],
   "source": [
    "another_list.index(1)"
   ]
  },
  {
   "cell_type": "code",
   "execution_count": null,
   "metadata": {},
   "outputs": [],
   "source": [
    "another_list.index(\"banana\")"
   ]
  },
  {
   "cell_type": "markdown",
   "metadata": {},
   "source": [
    "Operations can be performed on items in a list. For example, let's define a list of numbers:"
   ]
  },
  {
   "cell_type": "code",
   "execution_count": null,
   "metadata": {},
   "outputs": [],
   "source": [
    "num_list = [1, 2, 3, 4]"
   ]
  },
  {
   "cell_type": "markdown",
   "metadata": {},
   "source": [
    "num_list[1] + num_list[2]"
   ]
  },
  {
   "cell_type": "code",
   "execution_count": null,
   "metadata": {},
   "outputs": [],
   "source": [
    "num_list[2]**num_list[4]"
   ]
  },
  {
   "cell_type": "markdown",
   "metadata": {},
   "source": [
    "### Loops in Python \n",
    "\n",
    "Loops are a control flow statement that enable us to perform code repeatedly. There are two types of loops that allow us to do this:\n",
    "\n",
    "* **For loops** iterate over a given sequence \n",
    "* **While loops** iterate until a given condition is met \n",
    "\n",
    "Let's first look at **for loops**. They can be defined in a number of ways:"
   ]
  },
  {
   "cell_type": "code",
   "execution_count": null,
   "metadata": {},
   "outputs": [],
   "source": [
    "for i in range(10):\n",
    "    print(i)"
   ]
  },
  {
   "cell_type": "code",
   "execution_count": null,
   "metadata": {},
   "outputs": [],
   "source": [
    "some_items = [1, 2, \"blue\", \"green\"]\n",
    "\n",
    "for item in some_items:\n",
    "    print(item)"
   ]
  },
  {
   "cell_type": "markdown",
   "metadata": {},
   "source": [
    "The first way iterates through a range of numbers from $0-9$, while the second iterates through individual items in a list. You can include multiple tasks within a for loop, for instance:"
   ]
  },
  {
   "cell_type": "code",
   "execution_count": null,
   "metadata": {},
   "outputs": [],
   "source": [
    "for i in range(10):\n",
    "    num1 = i + 5 \n",
    "    num2 = i - 5 \n",
    "\n",
    "    print(f\"num1 = {num1}, num2 = {num2}\")"
   ]
  },
  {
   "cell_type": "markdown",
   "metadata": {},
   "source": [
    "The previous piece of code includes a funny print statement - this is known as an *f-string*. f-strings are a convenient way of embedding variables and expressions into strings, and hence print statements. Any data you would like to be included within this string is contained within the curly braces {}. This data can be formatted in a number of ways by adding a \":\" followed by, e.g.  \n",
    "\n",
    "* .xf to format a float \n",
    "* .xe to format in scientific notation \n",
    "\n",
    "where \"x\" denotes the precision. \n",
    "\n",
    "For instance, imagine you have a very long number, and you would like to express it to 4 decimal places:"
   ]
  },
  {
   "cell_type": "code",
   "execution_count": null,
   "metadata": {},
   "outputs": [],
   "source": [
    "long_num = 3.14159265358979 \n",
    "\n",
    "print(f\"To four decimal places: {long_num:.4f}\")\n",
    "print(f\"In scientific notation: {long_num:.4e}\")"
   ]
  },
  {
   "cell_type": "markdown",
   "metadata": {},
   "source": [
    "You don't need to have just one for loop as well! These are known as *nested loops*, and can contain any number of for loops within."
   ]
  },
  {
   "cell_type": "code",
   "execution_count": null,
   "metadata": {},
   "outputs": [],
   "source": [
    "for i in range(10):\n",
    "    for j in range(5):\n",
    "        sum = i + j \n",
    "        \n",
    "        # you can have even more for loops if you want!"
   ]
  },
  {
   "cell_type": "markdown",
   "metadata": {},
   "source": [
    "Careful when using nested loops with large datasets. Let's consider iterating over a $1,000,000 \\times 1,000,000$ array. How many iterations would occur if you wanted to access every element just once?\n",
    "\n",
    "There are also control statements that can be used within these loops. Let's look at some examples:"
   ]
  },
  {
   "cell_type": "code",
   "execution_count": null,
   "metadata": {},
   "outputs": [],
   "source": [
    "for i in range(10):\n",
    "    if i >= 5: \n",
    "        print(i)"
   ]
  },
  {
   "cell_type": "code",
   "execution_count": null,
   "metadata": {},
   "outputs": [],
   "source": [
    "for i in range(10):\n",
    "    if i >= 5:\n",
    "        print(i)\n",
    "        \n",
    "    else:\n",
    "        print(\"The number is less than 5\")"
   ]
  },
  {
   "cell_type": "markdown",
   "metadata": {},
   "source": [
    "Any arbitrary amount of code can be contained within an *if statement*. \n",
    "\n",
    "You can also skip the current iteration of the loop by using *continue*:"
   ]
  },
  {
   "cell_type": "code",
   "execution_count": null,
   "metadata": {},
   "outputs": [],
   "source": [
    "for i in range(10):\n",
    "    if i == 2:\n",
    "        continue \n",
    "    \n",
    "    print(i)"
   ]
  },
  {
   "cell_type": "markdown",
   "metadata": {},
   "source": [
    "And you can stop the loop entirely if a condition is met by using *break*"
   ]
  },
  {
   "cell_type": "code",
   "execution_count": null,
   "metadata": {},
   "outputs": [],
   "source": [
    "for i in range(10):\n",
    "    print(i)\n",
    "    \n",
    "    if i == 7:\n",
    "        break"
   ]
  },
  {
   "cell_type": "markdown",
   "metadata": {},
   "source": [
    "**While loops** are very similar to for loops, but you need to be careful to ensure that the loop ends, otherwise you can have an infinite loop. "
   ]
  },
  {
   "cell_type": "code",
   "execution_count": null,
   "metadata": {},
   "outputs": [],
   "source": [
    "x = 0 \n",
    "\n",
    "while x > 10:\n",
    "    print(x)\n",
    "    x += 1      # this is the same as saying x = x + 1"
   ]
  },
  {
   "cell_type": "markdown",
   "metadata": {},
   "source": [
    "Control statements can also be used in while loops:"
   ]
  },
  {
   "cell_type": "code",
   "execution_count": null,
   "metadata": {},
   "outputs": [],
   "source": [
    "x = 0 \n",
    "\n",
    "while x > 100:\n",
    "    x += 10\n",
    "    print(x)\n",
    "\n",
    "    if x > 50:\n",
    "        break\n"
   ]
  },
  {
   "cell_type": "markdown",
   "metadata": {},
   "source": [
    "Lists can also be created within loops"
   ]
  },
  {
   "cell_type": "code",
   "execution_count": null,
   "metadata": {},
   "outputs": [],
   "source": [
    "data = [] \n",
    "\n",
    "for i in range(20):\n",
    "    data.append(i)\n",
    "\n",
    "print(data)"
   ]
  },
  {
   "cell_type": "markdown",
   "metadata": {},
   "source": [
    "You can simplify this much further by using *list comprehension*"
   ]
  },
  {
   "cell_type": "code",
   "execution_count": null,
   "metadata": {},
   "outputs": [],
   "source": [
    "more_data = [i for i in range(20)]\n",
    "print(more_data)"
   ]
  },
  {
   "cell_type": "markdown",
   "metadata": {},
   "source": [
    "### Functions\n",
    "\n",
    "A function is a block of code that only runs when it is called. It is defined like this:"
   ]
  },
  {
   "cell_type": "code",
   "execution_count": null,
   "metadata": {},
   "outputs": [],
   "source": [
    "def hello_world():\n",
    "    print(\"Hello, world!\")"
   ]
  },
  {
   "cell_type": "markdown",
   "metadata": {},
   "source": [
    "and then called:"
   ]
  },
  {
   "cell_type": "code",
   "execution_count": null,
   "metadata": {},
   "outputs": [],
   "source": [
    "hello_world()"
   ]
  },
  {
   "cell_type": "markdown",
   "metadata": {},
   "source": [
    "You can pass variables within a function, and return them"
   ]
  },
  {
   "cell_type": "code",
   "execution_count": null,
   "metadata": {},
   "outputs": [],
   "source": [
    "def times_by_two(x):\n",
    "    return x * 2\n",
    "\n",
    "num = times_by_two(5)\n",
    "print(num)"
   ]
  },
  {
   "cell_type": "markdown",
   "metadata": {},
   "source": [
    "Functions can be as complex as you like, for example"
   ]
  },
  {
   "cell_type": "code",
   "execution_count": null,
   "metadata": {},
   "outputs": [],
   "source": [
    "def num_list_add(a, b):\n",
    "    \"\"\"\n",
    "    This function takes in two lists of numbers and adds them together, \n",
    "    similar to vector addition. \n",
    "    \"\"\"\n",
    "    if len(a) != len(b):\n",
    "        print(\"These lists are not equal in length!\")\n",
    "\n",
    "    else:\n",
    "        result = []\n",
    "        for i in range(len(a)):\n",
    "            result.append(a[i] + b[i])\n",
    "\n",
    "        return result \n",
    "\n",
    "print(num_list_add([1, 2, 3], [4, 5, 6]))"
   ]
  },
  {
   "cell_type": "markdown",
   "metadata": {},
   "source": [
    "\n",
    "\n",
    "\n",
    "\n",
    "# Exercises \n",
    "\n",
    "### Exercise 1\n",
    "\n",
    "Write a function that determines if an input value *n* is divisible by 7."
   ]
  },
  {
   "cell_type": "code",
   "execution_count": null,
   "metadata": {},
   "outputs": [],
   "source": [
    "# your function here"
   ]
  },
  {
   "cell_type": "markdown",
   "metadata": {},
   "source": [
    "### Exercise 2\n",
    "\n",
    "Write a function that computes the area and circumference of a circle for an input radius."
   ]
  },
  {
   "cell_type": "code",
   "execution_count": null,
   "metadata": {},
   "outputs": [],
   "source": [
    "# your function here"
   ]
  },
  {
   "cell_type": "markdown",
   "metadata": {},
   "source": [
    "### Exercise 3\n",
    "\n",
    "Write a function that takes in an input list, and reverses it. \n",
    "\n",
    "For example, if you input [1, 2, 3], it should return [3, 2, 1]"
   ]
  },
  {
   "cell_type": "code",
   "execution_count": null,
   "metadata": {},
   "outputs": [],
   "source": [
    "# your function here"
   ]
  },
  {
   "cell_type": "markdown",
   "metadata": {},
   "source": [
    "### Exercise 4\n",
    "\n",
    "A monotonic sequence ${a_n}$ is strictly increasing if $a_n < a_{n+1}$ for all $n \\in N$. Likewise, it is strictly decreasing if $a_n > a_{n+1}$ for all $n \\in N$. \n",
    "\n",
    "Write a function that determines whether a monotonic list of numbers is strictly increasing or decreasing. \n",
    "\n",
    "For example, the output for [1, 2, 3, 4, 5] should be \"strictly increasing\", the output for [5, 4, 3, 2, 1] should be \"strictly decreasing\", and [1, 1, 2, 3, 4] should be \"not stricly increasing or decreasing\"."
   ]
  },
  {
   "cell_type": "code",
   "execution_count": null,
   "metadata": {},
   "outputs": [],
   "source": [
    "# your function here "
   ]
  }
 ],
 "metadata": {
  "kernelspec": {
   "display_name": "Python 3",
   "language": "python",
   "name": "python3"
  },
  "language_info": {
   "codemirror_mode": {
    "name": "ipython",
    "version": 3
   },
   "file_extension": ".py",
   "mimetype": "text/x-python",
   "name": "python",
   "nbconvert_exporter": "python",
   "pygments_lexer": "ipython3",
   "version": "3.10.12"
  }
 },
 "nbformat": 4,
 "nbformat_minor": 2
}
